{
  "cells": [
    {
      "cell_type": "markdown",
      "metadata": {
        "id": "TmYyWPUh8L5a"
      },
      "source": [
        "**import packages**"
      ]
    },
    {
      "cell_type": "code",
      "execution_count": null,
      "metadata": {
        "id": "ES2X3xIM8MID"
      },
      "outputs": [],
      "source": [
        "import tensorflow as tf\n",
        "import numpy as np\n",
        "import matplotlib.pyplot as plt\n",
        "import tensorflow_probability as tfp\n",
        "from IPython import display as ipythondisplay\n",
        "import numpy as np\n",
        "import random\n",
        "\n",
        "np.random.seed(1234)\n",
        "random.seed(1234)\n",
        "tf.random.set_seed(1234)"
      ]
    },
    {
      "cell_type": "markdown",
      "metadata": {
        "id": "37_GwZkO8MY6"
      },
      "source": [
        "**GMLVQ with transfer learning**"
      ]
    },
    {
      "cell_type": "code",
      "execution_count": null,
      "metadata": {
        "id": "sWgDCo2W8Moi"
      },
      "outputs": [],
      "source": [
        "class GMLVQ(tf.keras.layers.Layer):\n",
        "  def __init__(self,feat_dim,no_of_wts_per_class,num_classes,do_transfer=0,winit=None,type_transfer=''):\n",
        "    super(GMLVQ, self).__init__()\n",
        "    self.no_of_wts_per_class=no_of_wts_per_class;\n",
        "    self.feat_dim=feat_dim;\n",
        "    self.num_classes=num_classes;\n",
        "    self.do_transfer=do_transfer;\n",
        "    if(do_transfer==0):\n",
        "      if(winit is None):\n",
        "        self.w = self.add_weight(\"w\",shape=[no_of_wts_per_class*num_classes,feat_dim])\n",
        "      else:\n",
        "        self.w =tf.Variable(winit,trainable=True)\n",
        "      if(type_transfer=='LFT-TDS'):\n",
        "        self.H =tf.constant(np.eye(feat_dim))\n",
        "      else:\n",
        "        self.G=tf.constant(np.eye(feat_dim))\n",
        "        self.g=tf.constant(np.zeros(feat_dim))\n",
        "\n",
        "    else:\n",
        "      self.w1 = tf.constant(winit)\n",
        "      if(type_transfer=='LFT-TDS'):\n",
        "        self.H =tf.Variable(np.eye(feat_dim).astype('float32')[np.newaxis,:,:],trainable=True)\n",
        "      else:\n",
        "        self.G=tf.Variable(np.eye(feat_dim).astype('float32')[:,:],trainable=True)\n",
        "        self.g=tf.Variable(np.zeros(feat_dim).astype('float32')[np.newaxis,:],trainable=True)\n",
        "\n",
        "    self.type_transfer=type_transfer\n",
        "    self.a=10; \n",
        "    self.class_labels=np.repeat(np.arange(num_classes),no_of_wts_per_class);\n",
        "    self.class_labels=np.reshape(self.class_labels,-1)\n",
        "\n",
        "  def ComputeAllDistance(self,x,y):  #v_i and class labels\n",
        "    if(self.do_transfer==1):\n",
        "      if(self.type_transfer=='LFT-TDS'):\n",
        "        self.w=self.w1\n",
        "        x=tf.matmul(self.H,tf.expand_dims(x,axis=-1))[:,:,0]\n",
        "      else:\n",
        "        #print(self.w.shape,self.G.shape,self.g.shape)\n",
        "        self.w=tf.matmul(self.w1,self.G)+self.g\n",
        "    diff=x-self.w \n",
        "    all_dist=[]\n",
        "    min_val_pos=np.inf;\n",
        "    max_val_neg=np.inf;\n",
        "    pos_index = 0;\n",
        "    #print(self.num_classes*self.no_of_wts_per_class)\n",
        "    for j in range(self.num_classes*self.no_of_wts_per_class):\n",
        "      #print(diff[j,:])\n",
        "      dist=tf.reduce_sum(tf.expand_dims(diff[j,:],axis=0)**2)\n",
        "      if(not np.isfinite(dist)):\n",
        "        print('infinite/nan distance, data might need normalization')\n",
        "     # print(dist)\n",
        "      if(self.class_labels[j]==y):\n",
        "        if(dist<=min_val_pos):\n",
        "          min_val_pos=dist\n",
        "          pos_index=j\n",
        "      else:\n",
        "        if(dist<=max_val_neg):\n",
        "          max_val_neg=dist\n",
        "          neg_index=j\n",
        "      \n",
        "      all_dist.append(dist)\n",
        "   # print(dist)\n",
        "    return all_dist[pos_index],all_dist[neg_index],pos_index\n",
        "\n",
        "  def call(self, x,y):  #x--> (batch_size,fdim) # Lets work with batch size 1 ..!\n",
        "    d_p,d_n,_=self.ComputeAllDistance(x,y)\n",
        "    mu=(d_p-d_n)/(d_p+d_n)\n",
        "    return tf.sigmoid(self.a*mu)\n",
        "\n",
        "  def PointPredict(self,x):\n",
        "    if(self.do_transfer==1):\n",
        "      if(self.type_transfer=='LFT-TDS'):\n",
        "        x=tf.matmul(self.H,tf.expand_dims(x,axis=-1))[:,:,0]\n",
        "      else:\n",
        "        self.w=tf.matmul(self.w,self.G)+self.g\n",
        "    diff=x-self.w\n",
        "    #print(diff)\n",
        "    min_val_pos=np.inf;\n",
        "    pos_index = 0;\n",
        "    for j in range(self.num_classes*self.no_of_wts_per_class):\n",
        "      dist=tf.reduce_sum(tf.expand_dims(diff[j,:],axis=0)**2)\n",
        "      if(not np.isfinite(dist)):\n",
        "        print('infinite/nan distance, data might need normalization')\n",
        "\n",
        "      if(dist<min_val_pos):\n",
        "          min_val_pos=dist\n",
        "          pos_index=j\n",
        "    #print(dist)\n",
        "    return self.class_labels[pos_index]\n",
        "    \n",
        "\n",
        "    "
      ]
    },
    {
      "cell_type": "markdown",
      "metadata": {
        "id": "gZLX12PH8M6E"
      },
      "source": [
        "**GTLVQ with transfer learning**"
      ]
    },
    {
      "cell_type": "code",
      "execution_count": null,
      "metadata": {
        "id": "eEklUIJ78NLz"
      },
      "outputs": [],
      "source": [
        "class Orthonormality(tf.keras.constraints.Constraint):\n",
        "  \"\"\"Constrains weight tensors to be centered around `ref_value`.\"\"\"\n",
        "  def __init__(self,refval):\n",
        "      pass;\n",
        "\n",
        "  def __call__(self, w):\n",
        "    #w=tfp.math.gram_schmidt(w);\n",
        "    return w\n",
        "  def get_config(self):\n",
        "    return 0\n",
        "\n",
        "class MatInit(tf.keras.initializers.Initializer):\n",
        "  def __init__(self, Winit):\n",
        "    self.Winit =Winit\n",
        "\n",
        "  def __call__(self, shape, dtype=None):\n",
        "    return Winit\n",
        "\n",
        "\n",
        "\n",
        "class GLTVQ(tf.keras.layers.Layer):\n",
        "  def __init__(self, feat_dim,r,no_of_wts_per_class,num_classes,winit=None,Winit=None):\n",
        "    super(GLTVQ, self).__init__()\n",
        "    self.no_of_wts_per_class=no_of_wts_per_class;\n",
        "    self.feat_dim=feat_dim;\n",
        "    self.num_classes=num_classes;\n",
        "    if(winit is None):\n",
        "      self.w = self.add_weight(\"w\",shape=[no_of_wts_per_class*num_classes,feat_dim])\n",
        "    else:\n",
        "      self.w =tf.Variable(winit,trainable=True)\n",
        "\n",
        "    if(Winit is None):\n",
        "      self.W = self.add_weight(\"W\",shape=[no_of_wts_per_class*num_classes,feat_dim,r],initializer='Orthogonal')  ## Orthonormality is required.\n",
        "    else:\n",
        "      weight_initilizer=MatInit(Winit)\n",
        "      self.W = self.add_weight(\"W\",shape=[no_of_wts_per_class*num_classes,feat_dim,r],initializer=weight_initilizer)\n",
        "      #\n",
        "      #self.W =tf.Variable(initial_value=Winit,trainable=True,constraint=Orthonormality)\n",
        "\n",
        "    self.a=10; \n",
        "    self.r=r;  \n",
        "    self.class_labels=np.repeat(np.arange(num_classes),no_of_wts_per_class);\n",
        "    self.class_labels=np.reshape(self.class_labels,-1)\n",
        "\n",
        "  def ComputeAllDistance(self,x,y):  #v_i and class labels\n",
        "    diff=x-self.w\n",
        "    all_dist=[]\n",
        "    min_val_pos=np.inf;\n",
        "    max_val_neg=np.inf;\n",
        "    pos_index =0;\n",
        "    neg_index = 0;\n",
        "    for j in range(self.num_classes*self.no_of_wts_per_class):\n",
        "      H=tf.matmul(self.W[j,:,:],self.W[j,:,:],transpose_b=True)\n",
        "      #print(H.shape,diff[j,:].shape)\n",
        "      dist=tf.reduce_sum(tf.matmul(H,tf.expand_dims(diff[j,:],axis=0),transpose_b=True)**2)\n",
        "      if(self.class_labels[j]==y):\n",
        "        if(dist<min_val_pos):\n",
        "          min_val_pos=dist\n",
        "          pos_index=j\n",
        "      else:\n",
        "        if(dist<max_val_neg):\n",
        "          max_val_neg=dist\n",
        "          neg_index=j\n",
        "      \n",
        "      all_dist.append(dist)\n",
        "    return all_dist[pos_index],all_dist[neg_index],pos_index\n",
        "\n",
        "  def call(self, x,y):  #x--> (batch_size,fdim) # Lets work with batch size 1 ..!\n",
        "    d_p,d_n,_=self.ComputeAllDistance(x,y)\n",
        "    mu=(d_p-d_n)/(d_p+d_n)\n",
        "    return tf.sigmoid(self.a*mu)\n",
        "\n",
        "  def PointPredict(self,x):\n",
        "      diff=x-self.w\n",
        "      min_val_pos=np.inf;\n",
        "      pos_index =0;\n",
        "      for j in range(self.num_classes*self.no_of_wts_per_class):\n",
        "        H=tf.matmul(self.W[j,:,:],self.W[j,:,:],transpose_b=True)\n",
        "        dist=tf.reduce_sum(tf.matmul(H,tf.expand_dims(diff[j,:],axis=0),transpose_b=True)**2)\n",
        "        if(dist<min_val_pos):\n",
        "            min_val_pos=dist\n",
        "            pos_index=j\n",
        "      return self.class_labels[pos_index]\n",
        "  def Orthonormalize(self):\n",
        "    self.W=tfp.math.gram_schmidt(self.W);\n",
        "    "
      ]
    },
    {
      "cell_type": "markdown",
      "metadata": {
        "id": "wUAcYiyE8NeP"
      },
      "source": [
        "**Getting MNIST data using keras and tensorflow**"
      ]
    },
    {
      "cell_type": "code",
      "execution_count": null,
      "metadata": {
        "colab": {
          "base_uri": "https://localhost:8080/"
        },
        "id": "gFON2T-s8NvU",
        "outputId": "f92711a7-4851-4bb4-cf99-962214192689"
      },
      "outputs": [
        {
          "output_type": "stream",
          "name": "stdout",
          "text": [
            "Downloading data from https://storage.googleapis.com/tensorflow/tf-keras-datasets/mnist.npz\n",
            "11493376/11490434 [==============================] - 0s 0us/step\n",
            "11501568/11490434 [==============================] - 0s 0us/step\n",
            "(60000, 28, 28, 1) (60000,)\n",
            "Number of original training examples: 60000\n",
            "Number of original test examples: 10000\n",
            "(60000, 784, 1) (10000, 784, 1)\n"
          ]
        }
      ],
      "source": [
        "(x_train, y_train), (x_test, y_test) = tf.keras.datasets.mnist.load_data()\n",
        "\n",
        "# Rescale the images from [0,255] to the [0.0,1.0] range.\n",
        "x_train, x_test = x_train[..., np.newaxis]/255.0, x_test[..., np.newaxis]/255.0\n",
        "print(x_train.shape,y_train.shape)\n",
        "print(\"Number of original training examples:\", len(x_train))\n",
        "print(\"Number of original test examples:\", len(x_test))\n",
        "\n",
        "x_train=tf.reshape(x_train,(x_train.shape[0],-1,1))\n",
        "x_test=tf.reshape(x_test,(x_test.shape[0],-1,1))\n",
        "print(x_train.shape,x_test.shape)\n",
        "sel_inds=np.random.randint(60000,size=(20000));  ## Select 2000 train images at random \n",
        "X=x_train.numpy()[sel_inds,:]\n",
        "labels=y_train[sel_inds]\n",
        "\n",
        "sel_inds=np.random.randint(10000,size=(2000));  ## Select 500 test images at random \n",
        "x_test=x_test.numpy()[sel_inds,:]\n",
        "y_test=y_test[sel_inds]\n",
        "r=7;\n",
        "nclasses=10"
      ]
    },
    {
      "cell_type": "markdown",
      "metadata": {
        "id": "ambkKiKavCYw"
      },
      "source": [
        "**Generate synthetic data**"
      ]
    },
    {
      "cell_type": "code",
      "execution_count": null,
      "metadata": {
        "colab": {
          "base_uri": "https://localhost:8080/",
          "height": 548
        },
        "id": "48n4RusGvCoE",
        "outputId": "221e4549-aa56-4787-c3cc-a54b860fe461"
      },
      "outputs": [
        {
          "output_type": "stream",
          "name": "stdout",
          "text": [
            "(600, 2)\n"
          ]
        },
        {
          "output_type": "display_data",
          "data": {
            "image/png": "[encoded data removed]",
            "text/plain": [
              "<Figure size 432x288 with 1 Axes>"
            ]
          },
          "metadata": {
            "needs_background": "light"
          }
        },
        {
          "output_type": "stream",
          "name": "stdout",
          "text": [
            "(600, 2)\n"
          ]
        },
        {
          "output_type": "display_data",
          "data": {
            "image/png": "[encoded data removed]",
            "text/plain": [
              "<Figure size 432x288 with 1 Axes>"
            ]
          },
          "metadata": {
            "needs_background": "light"
          }
        }
      ],
      "source": [
        "from numpy.random import multivariate_normal\n",
        "from sklearn.mixture import GaussianMixture\n",
        "from sklearn.model_selection import train_test_split\n",
        "\n",
        "nmixes=6;\n",
        "npoints_perclass=100;\n",
        "mu=np.array([[6,5],[4.5,6],[3,3],[7.5,2],[5.5,2.5],[8,5.5]])\n",
        "label2lab={0:0,2:0,3:0,1:1,4:1,5:1}\n",
        "\n",
        "var=[0.8*np.eye(2),np.array([[0.2,0.1],[0.1,0.2]]),np.array([[0.2,-0.15],[-0.15,0.2]]),np.array([[0.2,0.1],[0.1,0.2]]),np.array([[0.2,-0.15],[-0.15,0.2]]),np.array([[0.2,-0.18],[-0.18,0.2]])];\n",
        "labels=[];\n",
        "\n",
        "X=multivariate_normal(mu[0,:],var[0],size=(npoints_perclass))\n",
        "labels.append(label2lab[0]*np.ones(npoints_perclass))\n",
        "\n",
        "for m in range(1,nmixes):\n",
        "  x=multivariate_normal(mu[m,:],var[m],size=(npoints_perclass))\n",
        "  X=np.concatenate((X,x),axis=0);\n",
        "  labels.append(label2lab[m]*np.ones(npoints_perclass))\n",
        "\n",
        "X=X/9.0 ##--> reduce the scale \n",
        "labels=np.array(labels).reshape(-1)\n",
        "print(X.shape)\n",
        "for j in range(nmixes):\n",
        "  plt.scatter(X[labels==j,0],X[labels==j,1])\n",
        "plt.show()\n",
        "\n",
        "\n",
        "X_train, X_test, y_train, y_test = train_test_split(X, labels, test_size=0.33, random_state=42)\n",
        "\n",
        "## tansform data\n",
        "theta=294*np.pi/180.0\n",
        "R=np.array([[np.cos(theta),np.sin(theta)],[-np.sin(theta),np.cos(theta)]])\n",
        "t=np.array([6,5])[np.newaxis,:]/9.0\n",
        "\n",
        "Xtransform=np.dot(X-t,R)+t\n",
        "print(Xtransform.shape)\n",
        "for j in range(nmixes):\n",
        "  plt.scatter(Xtransform[labels==j,0],Xtransform[labels==j,1])\n",
        "  #km=GaussianMixture(n_components=3, random_state=0).fit(Xtransform[labels==j,:])\n",
        "  #break\n",
        "\n",
        "\n",
        "plt.show()\n",
        "X_train_target, X_test_target, y_train_target, y_test_target = train_test_split(Xtransform, labels, test_size=0.33, random_state=42)\n",
        "nclasses=2"
      ]
    },
    {
      "cell_type": "markdown",
      "metadata": {
        "id": "iCROKjduvC6l"
      },
      "source": [
        "**train the source data**"
      ]
    },
    {
      "cell_type": "code",
      "execution_count": null,
      "metadata": {
        "colab": {
          "base_uri": "https://localhost:8080/",
          "height": 265
        },
        "id": "TEntHGzPvDLF",
        "outputId": "12ac7727-2c91-4c77-eae5-702b6ca1f0a5"
      },
      "outputs": [
        {
          "output_type": "display_data",
          "data": {
            "image/png": "[encoded data removed]",
            "text/plain": [
              "<Figure size 432x288 with 1 Axes>"
            ]
          },
          "metadata": {
            "needs_background": "light"
          }
        }
      ],
      "source": [
        "import time\n",
        "from IPython import display as ipythondisplay\n",
        "import IPython\n",
        "class DataPlotter:\n",
        "  def plot(self, X_train,Y_train,wmat=None):\n",
        "      labels=np.unique(Y_train)\n",
        "      for j in range(labels.shape[0]):\n",
        "         plt.scatter(X_train[labels[j]==Y_train,0],X_train[labels[j]==Y_train,1])\n",
        "\n",
        "      if(wmat is not None):\n",
        "        plt.scatter(winit[:,0],winit[:,1],s=150,c='#d62728')\n",
        "      plt.show()\n",
        "      #ipythondisplay.clear_output(wait=True)\n",
        "      #ipythondisplay.display(plt.gcf())\n",
        "\n",
        "plotter=DataPlotter();\n",
        "plotter.plot(X_train,y_train)#layer.w.numpy()"
      ]
    },
    {
      "cell_type": "code",
      "execution_count": null,
      "metadata": {
        "colab": {
          "base_uri": "https://localhost:8080/",
          "height": 1000,
          "referenced_widgets": [
            "33aba4e6bfc74bf5a3bc02a67df5c1fd",
            "dd56a26027d94ea28dbc150b53053628",
            "14d17533ed35431faea6aaab796b3606",
            "ebd7bf57edd441b7937a33e5b1461f85",
            "282fbc3550944891a86ef2350ec54834",
            "84e32d006d7e4a14b0ae6b140a1f5a5f",
            "43d6187b695846708079518f39796b18",
            "e4320547ff26452592f92a0401192489",
            "17dc18a0382940e18be2bf4c537e9734",
            "d1d6209da9f64ff4b92cb64161fc3271",
            "3df59e7ebf6f4de3bf16651a8a3d4016",
            "e70c40041ee841d993e142d5045a8fcc",
            "4e403ca782bf4a5a82a6eddb2a6ce866",
            "2fd0fca97e664bbbb1790469a21d1e36",
            "a1200073a38b471b843d6c1fbf253b4e",
            "c7b316e5866a44d590a8f67e779aa3fb",
            "68a867671ce44c63b131fe0056985644",
            "f4c59b46b08b4b458c6278314d39c2bf",
            "8ef8854406d24933bdf4816407627bc4",
            "83b4d9c33ea148bd948bec0dbf482029",
            "ea10369db2e34c038c711ffa433708ac",
            "5d73cb536f6249a5bf6ef537ba79bbe0",
            "c1f93b752f9e4eaeb343193038743cd8",
            "cdee1cc8f7d44ff69b9b7cc78bc2e502",
            "3ca8d336d37d4e77992b7326c3203ed8",
            "4f5fc6a1467c49d7ac9268013e5b52f2",
            "e1d2a34beb3b48978a708a43656e5c23",
            "4f0d9c21e3b94d808be6bb573a90d87e",
            "cb6fe8af5db14666a033420a6080fa02",
            "e3e13b85d51f463abb884d03fc21a993",
            "3b6a58f8b6724814902977e1de2bf3ff",
            "465429bc507c4486b272180b100d1443",
            "4f7cfa29314d44ee9cc004d2ac1c9dba",
            "4c8c5eb233824038816334a95c3ea7e3",
            "5104ad019e904a328ce067de4db7f19f",
            "24e10ab63be2474fb0bd32aa73949aaf",
            "54fedc3bb4744cf0a938215808b72bea",
            "153b9f58bdf04170835df28f07c06190",
            "b461876f51594da88ac96416f2a353ae",
            "f4ebc083979e44a8aa54f0c22dc8e105",
            "c7c29347a0524ef4a302ac7657e44a30",
            "2017ab5452f74d64acab8c2583a578c9",
            "456782e157074bcb97880a0bb713b37d",
            "bd41788856b344db823348701dd8ca3b",
            "73f43cdc029d453dbb98a7beb04dbec7",
            "c484379be1144736b28608735f216c00",
            "d4473e9af7324fdb9d8d153f1e23050c",
            "6239395fe7a041ba8b8cc69d2afabd02",
            "cc77ec77ab4d48028a03d250ed1ee594",
            "f5e131ab34de45c6b4fc44ed2622fb37",
            "785262c741e04af8a3e679aa573e7a64",
            "6fcff6a9304540a498455831be37b3a3",
            "6bcf6679a1584b439a33667c8739e975",
            "fac3ed60a83b4050ab6431e0b5c66cfd",
            "ca9c5e710be548878395625209beedc3"
          ]
        },
        "id": "dHx-T2ErvDvm",
        "outputId": "074c42ff-ebdf-415d-c042-73164bed43ee"
      },
      "outputs": [
        {
          "output_type": "stream",
          "name": "stdout",
          "text": [
            "(402, 2)\n"
          ]
        },
        {
          "output_type": "display_data",
          "data": {
            "image/png": "[encoded data removed]",
            "text/plain": [
              "<Figure size 432x288 with 1 Axes>"
            ]
          },
          "metadata": {
            "needs_background": "light"
          }
        },
        {
          "output_type": "stream",
          "name": "stdout",
          "text": [
            "\n",
            "Start of epoch 0\n"
          ]
        },
        {
          "output_type": "display_data",
          "data": {
            "application/vnd.jupyter.widget-view+json": {
              "model_id": "33aba4e6bfc74bf5a3bc02a67df5c1fd",
              "version_minor": 0,
              "version_major": 2
            },
            "text/plain": [
              "  0%|          | 0/402 [00:00<?, ?it/s]"
            ]
          },
          "metadata": {}
        },
        {
          "output_type": "stream",
          "name": "stdout",
          "text": [
            "\n",
            " test accuracy:93.43434343434343\n"
          ]
        },
        {
          "output_type": "display_data",
          "data": {
            "image/png": "[encoded data removed]",
            "text/plain": [
              "<Figure size 432x288 with 1 Axes>"
            ]
          },
          "metadata": {
            "needs_background": "light"
          }
        },
        {
          "output_type": "stream",
          "name": "stdout",
          "text": [
            "\n",
            "Start of epoch 1\n"
          ]
        },
        {
          "output_type": "display_data",
          "data": {
            "application/vnd.jupyter.widget-view+json": {
              "model_id": "e70c40041ee841d993e142d5045a8fcc",
              "version_minor": 0,
              "version_major": 2
            },
            "text/plain": [
              "  0%|          | 0/402 [00:00<?, ?it/s]"
            ]
          },
          "metadata": {}
        },
        {
          "output_type": "stream",
          "name": "stdout",
          "text": [
            "\n",
            " test accuracy:94.94949494949495\n"
          ]
        },
        {
          "output_type": "display_data",
          "data": {
            "image/png": "[encoded data removed]",
            "text/plain": [
              "<Figure size 432x288 with 1 Axes>"
            ]
          },
          "metadata": {
            "needs_background": "light"
          }
        },
        {
          "output_type": "stream",
          "name": "stdout",
          "text": [
            "\n",
            "Start of epoch 2\n"
          ]
        },
        {
          "output_type": "display_data",
          "data": {
            "application/vnd.jupyter.widget-view+json": {
              "model_id": "c1f93b752f9e4eaeb343193038743cd8",
              "version_minor": 0,
              "version_major": 2
            },
            "text/plain": [
              "  0%|          | 0/402 [00:00<?, ?it/s]"
            ]
          },
          "metadata": {}
        },
        {
          "output_type": "stream",
          "name": "stdout",
          "text": [
            "\n",
            " test accuracy:94.94949494949495\n"
          ]
        },
        {
          "output_type": "display_data",
          "data": {
            "image/png": "[encoded data removed]",
            "text/plain": [
              "<Figure size 432x288 with 1 Axes>"
            ]
          },
          "metadata": {
            "needs_background": "light"
          }
        },
        {
          "output_type": "stream",
          "name": "stdout",
          "text": [
            "\n",
            "Start of epoch 3\n"
          ]
        },
        {
          "output_type": "display_data",
          "data": {
            "application/vnd.jupyter.widget-view+json": {
              "model_id": "4c8c5eb233824038816334a95c3ea7e3",
              "version_minor": 0,
              "version_major": 2
            },
            "text/plain": [
              "  0%|          | 0/402 [00:00<?, ?it/s]"
            ]
          },
          "metadata": {}
        },
        {
          "output_type": "stream",
          "name": "stdout",
          "text": [
            "\n",
            " test accuracy:94.94949494949495\n"
          ]
        },
        {
          "output_type": "display_data",
          "data": {
            "image/png": "[encoded data removed]",
            "text/plain": [
              "<Figure size 432x288 with 1 Axes>"
            ]
          },
          "metadata": {
            "needs_background": "light"
          }
        },
        {
          "output_type": "stream",
          "name": "stdout",
          "text": [
            "\n",
            "Start of epoch 4\n"
          ]
        },
        {
          "output_type": "display_data",
          "data": {
            "application/vnd.jupyter.widget-view+json": {
              "model_id": "73f43cdc029d453dbb98a7beb04dbec7",
              "version_minor": 0,
              "version_major": 2
            },
            "text/plain": [
              "  0%|          | 0/402 [00:00<?, ?it/s]"
            ]
          },
          "metadata": {}
        },
        {
          "output_type": "stream",
          "name": "stdout",
          "text": [
            "\n",
            " test accuracy:93.93939393939394\n"
          ]
        }
      ],
      "source": [
        "import time\n",
        "from tqdm import tqdm\n",
        "from sklearn.cluster import KMeans\n",
        "from tqdm.notebook import tqdm\n",
        "\n",
        "#if hasattr(tqdm, '_instances'): tqdm._instances.clear() # clear if it exists\n",
        "r=2;\n",
        "no_of_weights_perclss=3;\n",
        "#use='gmlvq'\n",
        "use='gltvq'\n",
        "\n",
        "#############################\n",
        "\n",
        "def NormalizeData(x,mu=None,sigma=None):\n",
        "  if(mu==None):\n",
        "    mu=np.mean(x,axis=0,keepdims=True);\n",
        "    sigma=np.std(x,axis=0,keepdims=True);\n",
        "  return (x-mu)/sigma,mu,sigma\n",
        "\n",
        "def GetInit(X,y,r,nclasses,no_of_weights_perclss):  ##Kmeans init (GMM  might be better)\n",
        "  winit=np.zeros((nclasses*no_of_weights_perclss,X.shape[1]))\n",
        "  Winit=np.zeros((nclasses*no_of_weights_perclss,X.shape[1],r))\n",
        "  for j in range(nclasses):\n",
        "    if(no_of_weights_perclss>1):\n",
        "      km=GaussianMixture(n_components=no_of_weights_perclss, random_state=0).fit(X[y==j,:])\n",
        "      winit[j*no_of_weights_perclss:(j+1)*no_of_weights_perclss,:]=km.means_\n",
        "      #Winit[j*no_of_weights_perclss:(j+1)*no_of_weights_perclss,:,:]=km.covariances_\n",
        "      for m in range(no_of_weights_perclss):\n",
        "        e,Ev=np.linalg.eigh(km.covariances_[m,:,:])\n",
        "        Winit[j*no_of_weights_perclss+m,:,:]=Ev[:,-r:]\n",
        "    else:\n",
        "      #print(X.shape)\n",
        "      winit[j,:]=np.mean(X[y==j,:],axis=0)\n",
        "      covmat=np.cov(X[y==j,:],rowvar=False);\n",
        "      e,Ev=np.linalg.eigh(covmat)\n",
        "      #print(e)\n",
        "      Winit[j,:,:]=Ev[:,-r:]\n",
        "  return winit.astype('float32'),Winit.astype('float32')\n",
        "\n",
        "optimizer=tf.compat.v1.train.GradientDescentOptimizer(learning_rate=1e-3);\n",
        "print(X_train.shape)\n",
        "\n",
        "\n",
        "\n",
        "X,_,_=X_train,X_train,X_train;#NormalizeData(X)\n",
        "winit,Winit=GetInit(X_train,y_train,r,nclasses,no_of_weights_perclss)\n",
        "\n",
        "## Layer definition\n",
        "if(use=='gmlvq'):\n",
        "  layer=GMLVQ(X.shape[1],no_of_weights_perclss,nclasses,winit=winit)  #feat_dim,no_of_wts_per_class,num_classes,do_transfer=0,winit=None,type_transfer='LFT-TDS'\n",
        "  epochs=5;\n",
        "else:\n",
        "  layer = GLTVQ(X.shape[1],r,no_of_weights_perclss,nclasses,winit=winit,Winit=Winit)\n",
        "  epochs=5;\n",
        "\n",
        "\n",
        "for epoch in range(epochs):\n",
        "  #IPython.display.clear_output(wait=True)\n",
        "  plotter.plot(X_train,y_train,layer.w.numpy())\n",
        "  print(\"\\nStart of epoch %d\" % (epoch,))\n",
        "  start_time = time.time()\n",
        "  accuracy=0.0;\n",
        "  ############# Iterate over the batches of the dataset ###########\n",
        "  for batch_id in tqdm(range(X_train.shape[0]), position=0, leave=True):\n",
        "    with tf.GradientTape() as tape:\n",
        "        loss= layer(X_train[batch_id,:],y_train[batch_id])   ## Compute forward pass\n",
        "\n",
        "    grads = tape.gradient(loss, layer.trainable_variables)     ## Compute weight gradient\n",
        "    optimizer.apply_gradients(zip(grads, layer.trainable_variables))  ## update weights\n",
        "    if(use=='gltvq'):\n",
        "      layer.Orthonormalize()\n",
        "\n",
        "  ord=np.random.permutation(np.arange(X_train.shape[0]))\n",
        "  #X=X[ord,:]  #Shufling for SGD \n",
        "  #labels=labels[ord]\n",
        "  ####### Accuracy computation ##################\n",
        "  pred=np.zeros(X_test.shape[0])\n",
        "  for batch_id in range(X_test.shape[0]):\n",
        "    pred[batch_id]=layer.PointPredict(X_test[batch_id,:])\n",
        "  print('\\n test accuracy:'+str(np.mean(pred==y_test)*100))\n",
        "  #break;\n",
        "  \n"
      ]
    },
    {
      "cell_type": "markdown",
      "metadata": {
        "id": "zujElwcCvrXD"
      },
      "source": [
        "**train on target data**"
      ]
    },
    {
      "cell_type": "code",
      "execution_count": null,
      "metadata": {
        "colab": {
          "base_uri": "https://localhost:8080/",
          "height": 681,
          "referenced_widgets": [
            "97b54b0c97434c3495d94c74dff64e01",
            "ce25353dd70c45fbbd659f5408be424a",
            "19b7786fac3144219faa5e7dc949e964",
            "7315b5f2497f4defad04e67c51f32c53",
            "312340a42ea74fe7878fa5158be53879",
            "08ac7e335dfe4a2f944227daf4b80623",
            "343dc36dee0942bf90e701492516a277",
            "17d3865467a74f9988be90174c28213e",
            "14c0896e9061475dbf80c39e7ed4bccb",
            "fe4bd75160284b408ed309d5cec2c340",
            "c4a0c0565017433e90ca0564ade0433b",
            "71cd6e363ac6456abf1922bfe97940aa",
            "16960c19825043788a6a2a9acf09186c",
            "1b68720b6aed4d2cb52cd8754bd25773",
            "d130bc7991e040c3be7efde219f4aedb",
            "15f0c928991c474b8ff2f7356e908222",
            "3f538d0c024441a18964f656215ce691",
            "dfa8d773f69b4f06b16e2a17f5fdd3a2",
            "23da0fe2d1b547a8910f74d6ba8fbe89",
            "ba7e1061152a4f13890cc0a08edcf1b5",
            "3813b416fb7b4fe29c644a5685be14b9",
            "41d512793e6a4ed6a45e67680124d115"
          ]
        },
        "id": "sV7hBOYdvrvm",
        "outputId": "e44a1c08-a21f-429c-cfdf-65c61261ff40"
      },
      "outputs": [
        {
          "output_type": "display_data",
          "data": {
            "image/png": "[encoded data removed]",
            "text/plain": [
              "<Figure size 432x288 with 1 Axes>"
            ]
          },
          "metadata": {
            "needs_background": "light"
          }
        },
        {
          "output_type": "stream",
          "name": "stdout",
          "text": [
            "\n",
            "Start of epoch 0\n"
          ]
        },
        {
          "output_type": "display_data",
          "data": {
            "application/vnd.jupyter.widget-view+json": {
              "model_id": "97b54b0c97434c3495d94c74dff64e01",
              "version_minor": 0,
              "version_major": 2
            },
            "text/plain": [
              "  0%|          | 0/402 [00:00<?, ?it/s]"
            ]
          },
          "metadata": {}
        },
        {
          "output_type": "stream",
          "name": "stdout",
          "text": [
            "\n",
            " test accuracy:77.77777777777779\n"
          ]
        },
        {
          "output_type": "display_data",
          "data": {
            "image/png": "[encoded data removed]",
            "text/plain": [
              "<Figure size 432x288 with 1 Axes>"
            ]
          },
          "metadata": {
            "needs_background": "light"
          }
        },
        {
          "output_type": "stream",
          "name": "stdout",
          "text": [
            "\n",
            "Start of epoch 1\n"
          ]
        },
        {
          "output_type": "display_data",
          "data": {
            "application/vnd.jupyter.widget-view+json": {
              "model_id": "71cd6e363ac6456abf1922bfe97940aa",
              "version_minor": 0,
              "version_major": 2
            },
            "text/plain": [
              "  0%|          | 0/402 [00:00<?, ?it/s]"
            ]
          },
          "metadata": {}
        }
      ],
      "source": [
        "## Layer definition\n",
        "if(use=='gmlvq'):\n",
        "  layer_transfer=GMLVQ(X.shape[1],no_of_weights_perclss,nclasses,winit=layer.w,do_transfer=1,type_transfer='LFT-TDS')  #feat_dim,no_of_wts_per_class,num_classes,do_transfer=0,winit=None,type_transfer='LFT-TDS'\n",
        "  epochs=10\n",
        "else:\n",
        "  layer_transfer = GLTVQ(X.shape[1],r,no_of_weights_perclss,nclasses,winit=layer.w,Winit=layer.W)\n",
        "  #X_train_target=np.concatenate((X_train_target,X_train),axis=0)\n",
        "  #y_train_target=np.concatenate((y_train_target,y_train),axis=0)\n",
        "  epochs=10\n",
        "\n",
        "\n",
        "optimizer=tf.compat.v1.train.GradientDescentOptimizer(learning_rate=1e-3);\n",
        "\n",
        "for epoch in range(epochs):\n",
        "  plotter.plot(X_train,y_train,layer.w.numpy())\n",
        "  print(\"\\nStart of epoch %d\" % (epoch,))\n",
        "  start_time = time.time()\n",
        "  accuracy=0.0;\n",
        "  ############# Iterate over the batches of the dataset ###########\n",
        "  for batch_id in tqdm(range(X_train_target.shape[0]), position=0, leave=True):\n",
        "    with tf.GradientTape() as tape:\n",
        "        loss= layer_transfer(X_train_target[batch_id,:],y_train_target[batch_id])   ## Compute forward pass\n",
        "\n",
        "    grads = tape.gradient(loss, layer_transfer.trainable_variables)     ## Compute weight gradient\n",
        "    optimizer.apply_gradients(zip(grads, layer_transfer.trainable_variables))  ## update weights\n",
        "    if(use=='gltvq'):\n",
        "      layer_transfer.Orthonormalize()\n",
        "\n",
        "  #X_train_target=X_train_target[np.random.permutation(np.arange(X_test_target.shape[0])),:]  #Shufling for SGD \n",
        "  ####### Accuracy computation ##################\n",
        "  pred=np.zeros(X_test_target.shape[0])\n",
        "  for batch_id in range(X_test_target.shape[0]):\n",
        "    pred[batch_id]=layer_transfer.PointPredict(X_test_target[batch_id,:].astype('float32'))\n",
        "  print('\\n test accuracy:'+str(np.mean(pred==y_test_target)*100))\n",
        "  #break;\n"
      ]
    },
    {
      "cell_type": "code",
      "execution_count": null,
      "metadata": {
        "id": "NNdZWbVvUus8",
        "outputId": "bd54bdd6-9a85-4b49-de8c-5c2a4e53e0e4"
      },
      "outputs": [
        {
          "name": "stdout",
          "output_type": "stream",
          "text": [
            "(3000, 28, 28) (500, 28, 28)\n",
            "(3000,) (500,)\n"
          ]
        },
        {
          "data": {
            "image/png": "[encoded data removed]",
            "text/plain": [
              "<Figure size 432x288 with 1 Axes>"
            ]
          },
          "metadata": {
            "needs_background": "light"
          },
          "output_type": "display_data"
        },
        {
          "name": "stdout",
          "output_type": "stream",
          "text": [
            "(3000, 28, 28, 1) (3000,)\n",
            "Number of original training examples: 3000\n",
            "Number of original test examples: 500\n",
            "(3000, 784, 1) (500, 784, 1)\n"
          ]
        }
      ],
      "source": [
        "(x_train, y_train), (x_test, y_test) = tf.keras.datasets.mnist.load_data()\n",
        "\n",
        "\n",
        "data_slice = 3000\n",
        "data_slice1 = 500\n",
        "x_train = x_train[:data_slice,:]\n",
        "y_train = y_train[:data_slice]\n",
        "x_test = x_test[:data_slice1,:]\n",
        "y_test = y_test[:data_slice1]\n",
        "\n",
        "print(x_train.shape,x_test.shape)\n",
        "print(y_train.shape,y_test.shape)\n",
        "plt.imshow(x_train[0],cmap=plt.cm.binary)\n",
        "plt.show()\n",
        "\n",
        "#print(y_train)\n",
        "# Rescale the images from [0,255] to the [0.0,1.0] range.\n",
        "x_train, x_test = x_train[..., np.newaxis]/255.0, x_test[..., np.newaxis]/255.0\n",
        "print(x_train.shape,y_train.shape)\n",
        "print(\"Number of original training examples:\", len(x_train))\n",
        "print(\"Number of original test examples:\", len(x_test))\n",
        "\n",
        "x_train=tf.reshape(x_train,(x_train.shape[0],-1,1))\n",
        "x_test=tf.reshape(x_test,(x_test.shape[0],-1,1))\n",
        "print(x_train.shape,x_test.shape)\n",
        "\n",
        "\n",
        "#sel_inds=np.random.randint(60000,size=(1000));  ## Select 2000 train images at random \n",
        "X=x_train.numpy()[:data_slice,:]\n",
        "#print(X)\n",
        "labels=y_train[:data_slice]\n",
        "\n",
        "#sel_inds=np.random.randint(10000,size=(2000));  ## Select 500 test images at random \n",
        "x_test=x_test.numpy()[:data_slice1,:]\n",
        "y_test=y_test[:data_slice1]\n",
        "#print(y_test)\n",
        "r=7;\n",
        "nclasses=10\n"
      ]
    },
    {
      "cell_type": "markdown",
      "metadata": {
        "id": "VtwqVTzLVKS0"
      },
      "source": [
        "**Train on MNIST dataset**"
      ]
    },
    {
      "cell_type": "code",
      "execution_count": null,
      "metadata": {
        "id": "_e9bhkOhVa6u",
        "outputId": "4cc749e9-a1ef-44b7-c435-b04adb6741d8"
      },
      "outputs": [
        {
          "name": "stdout",
          "output_type": "stream",
          "text": [
            "(3000, 784, 1)\n"
          ]
        }
      ],
      "source": [
        "import time\n",
        "from tqdm import tqdm\n",
        "from sklearn.cluster import KMeans\n",
        "#from tqdm.notebook import tqdm\n",
        "#from numpy.random import multivariate_normal\n",
        "#from sklearn.mixture import GaussianMixture\n",
        "#from sklearn.model_selection import train_test_split\n",
        "\n",
        "#if hasattr(tqdm, '_instances'): tqdm._instances.clear() # clear if it exists\n",
        "#r=7;\n",
        "no_of_weights_perclss=3;\n",
        "use='gmlvq'\n",
        "#use='gltvq'\n",
        "#############################\n",
        "\n",
        "def NormalizeData(x,mu=None,sigma=None):\n",
        "  if(mu==None):\n",
        "    mu=np.mean(x,axis=0,keepdims=True);\n",
        "    sigma=np.std(x,axis=0,keepdims=True);\n",
        "  return (x-mu)/sigma,mu,sigma\n",
        "\n",
        "def GetInit(X,y,r,nclasses,no_of_weights_perclss):  ##Kmeans init (GMM  might be better)\n",
        "  winit=np.zeros((nclasses*no_of_weights_perclss,X.shape[1]))\n",
        "  Winit=np.zeros((nclasses*no_of_weights_perclss,X.shape[1],r))\n",
        "  for j in range(nclasses):\n",
        "    if(no_of_weights_perclss>1):\n",
        "      pass;\n",
        "    else:\n",
        "      #print(X.shape)\n",
        "      winit[j,:]=np.mean(X[y==j,:,0],axis=0)\n",
        "      covmat=np.cov(X[y==j,:,0],rowvar=False);\n",
        "      e,Ev=np.linalg.eigh(covmat)\n",
        "      #print(e)\n",
        "      Winit[j,:,:]=Ev[:,-r:]\n",
        "  return winit.astype('float32'),Winit.astype('float32')\n",
        "\n",
        "optimizer=tf.compat.v1.train.GradientDescentOptimizer(learning_rate=1e-2);\n",
        "print(X.shape)\n",
        "\n",
        "\n",
        "\n",
        "X,_,_=X,X,X;#NormalizeData(X)\n",
        "winit,Winit=GetInit(X,y_train,r,nclasses,no_of_weights_perclss)\n",
        "\n",
        "## Layer definition\n",
        "if(use=='gmlvq'):\n",
        "  layer=GMLVQ(X.shape[1],no_of_weights_perclss,nclasses,winit=winit)  #feat_dim,no_of_wts_per_class,num_classes,do_transfer=0,winit=None,type_transfer='LFT-TDS'\n",
        "  epochs=5;\n",
        "else:\n",
        "  layer = GLTVQ(X.shape[1],r,no_of_weights_perclss,nclasses,winit=winit,Winit=Winit)\n",
        "  epochs=5;\n",
        "\n",
        "\n",
        "\n",
        "  "
      ]
    },
    {
      "cell_type": "code",
      "execution_count": null,
      "metadata": {
        "id": "UfjRGbZlVj7h",
        "scrolled": true,
        "outputId": "5cdaac86-1142-4b17-810e-d34c9f789142"
      },
      "outputs": [
        {
          "name": "stderr",
          "output_type": "stream",
          "text": [
            "\r",
            "  0%|                                                                                         | 0/3000 [00:00<?, ?it/s]"
          ]
        },
        {
          "name": "stdout",
          "output_type": "stream",
          "text": [
            "\n",
            "Start of epoch 0\n"
          ]
        },
        {
          "name": "stderr",
          "output_type": "stream",
          "text": [
            "100%|██████████████████████████████████████████████████████████████████████████████| 3000/3000 [00:32<00:00, 93.43it/s]\n",
            "  0%|▏                                                                                | 9/3000 [00:00<00:36, 81.14it/s]"
          ]
        },
        {
          "name": "stdout",
          "output_type": "stream",
          "text": [
            "\n",
            " test accuracy:69.19999999999999\n",
            "\n",
            "Start of epoch 1\n"
          ]
        },
        {
          "name": "stderr",
          "output_type": "stream",
          "text": [
            "100%|██████████████████████████████████████████████████████████████████████████████| 3000/3000 [00:34<00:00, 87.68it/s]\n",
            "  1%|▌                                                                               | 20/3000 [00:00<00:31, 94.31it/s]"
          ]
        },
        {
          "name": "stdout",
          "output_type": "stream",
          "text": [
            "\n",
            " test accuracy:70.19999999999999\n",
            "\n",
            "Start of epoch 2\n"
          ]
        },
        {
          "name": "stderr",
          "output_type": "stream",
          "text": [
            "100%|██████████████████████████████████████████████████████████████████████████████| 3000/3000 [00:32<00:00, 92.04it/s]\n",
            "  0%|▎                                                                               | 10/3000 [00:00<00:31, 96.23it/s]"
          ]
        },
        {
          "name": "stdout",
          "output_type": "stream",
          "text": [
            "\n",
            " test accuracy:70.6\n",
            "\n",
            "Start of epoch 3\n"
          ]
        },
        {
          "name": "stderr",
          "output_type": "stream",
          "text": [
            "100%|██████████████████████████████████████████████████████████████████████████████| 3000/3000 [00:32<00:00, 93.35it/s]\n",
            "  0%|▎                                                                               | 10/3000 [00:00<00:31, 96.21it/s]"
          ]
        },
        {
          "name": "stdout",
          "output_type": "stream",
          "text": [
            "\n",
            " test accuracy:71.8\n",
            "\n",
            "Start of epoch 4\n"
          ]
        },
        {
          "name": "stderr",
          "output_type": "stream",
          "text": [
            "100%|██████████████████████████████████████████████████████████████████████████████| 3000/3000 [00:32<00:00, 93.23it/s]\n"
          ]
        },
        {
          "name": "stdout",
          "output_type": "stream",
          "text": [
            "\n",
            " test accuracy:72.8\n"
          ]
        }
      ],
      "source": [
        "for epoch in range(epochs):\n",
        "  #IPython.display.clear_output(wait=True)\n",
        "  #plotter.plot(X_train,y_train,layer.w.numpy())\n",
        "  print(\"\\nStart of epoch %d\" % (epoch,))\n",
        "  start_time = time.time()\n",
        "  accuracy=0.0;\n",
        "  ############# Iterate over the batches of the dataset ###########\n",
        "  for batch_id in tqdm(range(X.shape[0]), position=0, leave=True):\n",
        "    with tf.GradientTape() as tape:\n",
        "        loss= layer(X[batch_id,:,0],y_train[batch_id])   ## Compute forward pass\n",
        "\n",
        "    grads = tape.gradient(loss, layer.trainable_variables)     ## Compute weight gradient\n",
        "    optimizer.apply_gradients(zip(grads, layer.trainable_variables))  ## update weights\n",
        "    if(use=='gltvq'):\n",
        "      layer.Orthonormalize()\n",
        "\n",
        "  ord=np.random.permutation(np.arange(X.shape[0]))\n",
        "  #X=X[ord,:]  #Shufling for SGD \n",
        "  #labels=labels[ord]\n",
        "  ####### Accuracy computation ##################\n",
        "  pred=np.zeros(x_test.shape[0])\n",
        "  for batch_id in range(x_test.shape[0]):\n",
        "    pred[batch_id]=layer.PointPredict(x_test[batch_id,:,0])\n",
        "  print('\\n test accuracy:'+str(np.mean(pred==y_test)*100))\n",
        "  #break;"
      ]
    },
    {
      "cell_type": "code",
      "execution_count": null,
      "metadata": {
        "id": "Ct8jzR_NPC0f",
        "outputId": "34382036-f5ef-4ba0-bd23-b1b4085a3412"
      },
      "outputs": [
        {
          "name": "stdout",
          "output_type": "stream",
          "text": [
            "(3000, 784, 1)\n"
          ]
        }
      ],
      "source": [
        "import time\n",
        "from tqdm import tqdm\n",
        "from sklearn.cluster import KMeans\n",
        "#from tqdm.notebook import tqdm\n",
        "#from numpy.random import multivariate_normal\n",
        "#from sklearn.mixture import GaussianMixture\n",
        "#from sklearn.model_selection import train_test_split\n",
        "\n",
        "#if hasattr(tqdm, '_instances'): tqdm._instances.clear() # clear if it exists\n",
        "#r=7;\n",
        "no_of_weights_perclss=3;\n",
        "#use='gmlvq'\n",
        "use='gltvq'\n",
        "#############################\n",
        "\n",
        "def NormalizeData(x,mu=None,sigma=None):\n",
        "  if(mu==None):\n",
        "    mu=np.mean(x,axis=0,keepdims=True);\n",
        "    sigma=np.std(x,axis=0,keepdims=True);\n",
        "  return (x-mu)/sigma,mu,sigma\n",
        "\n",
        "def GetInit(X,y,r,nclasses,no_of_weights_perclss):  ##Kmeans init (GMM  might be better)\n",
        "  winit=np.zeros((nclasses*no_of_weights_perclss,X.shape[1]))\n",
        "  Winit=np.zeros((nclasses*no_of_weights_perclss,X.shape[1],r))\n",
        "  for j in range(nclasses):\n",
        "    if(no_of_weights_perclss>1):\n",
        "      pass;\n",
        "    else:\n",
        "      #print(X.shape)\n",
        "      winit[j,:]=np.mean(X[y==j,:,0],axis=0)\n",
        "      covmat=np.cov(X[y==j,:,0],rowvar=False);\n",
        "      e,Ev=np.linalg.eigh(covmat)\n",
        "      #print(e)\n",
        "      Winit[j,:,:]=Ev[:,-r:]\n",
        "  return winit.astype('float32'),Winit.astype('float32')\n",
        "\n",
        "optimizer=tf.compat.v1.train.GradientDescentOptimizer(learning_rate=1e-2);\n",
        "print(X.shape)\n",
        "\n",
        "\n",
        "\n",
        "X,_,_=X,X,X;#NormalizeData(X)\n",
        "winit,Winit=GetInit(X,y_train,r,nclasses,no_of_weights_perclss)\n",
        "\n",
        "## Layer definition\n",
        "if(use=='gmlvq'):\n",
        "  layer=GMLVQ(X.shape[1],no_of_weights_perclss,nclasses,winit=winit)  #feat_dim,no_of_wts_per_class,num_classes,do_transfer=0,winit=None,type_transfer='LFT-TDS'\n",
        "  epochs=5;\n",
        "else:\n",
        "  \n",
        "  layer = GLTVQ(X.shape[1],r,no_of_weights_perclss,nclasses,winit=winit)\n",
        "  epochs=5;\n",
        "\n",
        "\n",
        "\n",
        "  "
      ]
    },
    {
      "cell_type": "code",
      "execution_count": null,
      "metadata": {
        "id": "4M2sgkJZPC0f",
        "outputId": "56ab4efa-29a3-4aa7-e550-92a36f6671e3"
      },
      "outputs": [
        {
          "name": "stderr",
          "output_type": "stream",
          "text": [
            "\r",
            "  0%|                                                                                         | 0/3000 [00:00<?, ?it/s]"
          ]
        },
        {
          "name": "stdout",
          "output_type": "stream",
          "text": [
            "\n",
            "Start of epoch 0\n"
          ]
        },
        {
          "name": "stderr",
          "output_type": "stream",
          "text": [
            "100%|██████████████████████████████████████████████████████████████████████████████| 3000/3000 [02:58<00:00, 16.78it/s]\n",
            "  0%|                                                                                 | 2/3000 [00:00<03:14, 15.39it/s]"
          ]
        },
        {
          "name": "stdout",
          "output_type": "stream",
          "text": [
            "\n",
            " test accuracy:37.8\n",
            "\n",
            "Start of epoch 1\n"
          ]
        },
        {
          "name": "stderr",
          "output_type": "stream",
          "text": [
            "100%|██████████████████████████████████████████████████████████████████████████████| 3000/3000 [03:01<00:00, 16.57it/s]\n",
            "  0%|                                                                                 | 2/3000 [00:00<03:02, 16.40it/s]"
          ]
        },
        {
          "name": "stdout",
          "output_type": "stream",
          "text": [
            "\n",
            " test accuracy:44.2\n",
            "\n",
            "Start of epoch 2\n"
          ]
        },
        {
          "name": "stderr",
          "output_type": "stream",
          "text": [
            "100%|██████████████████████████████████████████████████████████████████████████████| 3000/3000 [03:04<00:00, 16.26it/s]\n",
            "  0%|                                                                                 | 2/3000 [00:00<02:53, 17.25it/s]"
          ]
        },
        {
          "name": "stdout",
          "output_type": "stream",
          "text": [
            "\n",
            " test accuracy:45.4\n",
            "\n",
            "Start of epoch 3\n"
          ]
        },
        {
          "name": "stderr",
          "output_type": "stream",
          "text": [
            "100%|██████████████████████████████████████████████████████████████████████████████| 3000/3000 [03:05<00:00, 16.19it/s]\n",
            "  0%|                                                                                 | 2/3000 [00:00<02:56, 16.96it/s]"
          ]
        },
        {
          "name": "stdout",
          "output_type": "stream",
          "text": [
            "\n",
            " test accuracy:47.199999999999996\n",
            "\n",
            "Start of epoch 4\n"
          ]
        },
        {
          "name": "stderr",
          "output_type": "stream",
          "text": [
            "100%|██████████████████████████████████████████████████████████████████████████████| 3000/3000 [03:07<00:00, 15.98it/s]\n"
          ]
        },
        {
          "name": "stdout",
          "output_type": "stream",
          "text": [
            "\n",
            " test accuracy:47.599999999999994\n"
          ]
        }
      ],
      "source": [
        "for epoch in range(epochs):\n",
        "  #IPython.display.clear_output(wait=True)\n",
        "  #plotter.plot(X_train,y_train,layer.w.numpy())\n",
        "  print(\"\\nStart of epoch %d\" % (epoch,))\n",
        "  start_time = time.time()\n",
        "  accuracy=0.0;\n",
        "  ############# Iterate over the batches of the dataset ###########\n",
        "  for batch_id in tqdm(range(X.shape[0]), position=0, leave=True):\n",
        "    with tf.GradientTape() as tape:\n",
        "        loss= layer(X[batch_id,:,0],y_train[batch_id])   ## Compute forward pass\n",
        "\n",
        "    grads = tape.gradient(loss, layer.trainable_variables)     ## Compute weight gradient\n",
        "    optimizer.apply_gradients(zip(grads, layer.trainable_variables))  ## update weights\n",
        "    if(use=='gltvq'):\n",
        "      layer.Orthonormalize()\n",
        "\n",
        "  ord=np.random.permutation(np.arange(X.shape[0]))\n",
        "  #X=X[ord,:]  #Shufling for SGD \n",
        "  #labels=labels[ord]\n",
        "  ####### Accuracy computation ##################\n",
        "  pred=np.zeros(x_test.shape[0])\n",
        "  for batch_id in range(x_test.shape[0]):\n",
        "    pred[batch_id]=layer.PointPredict(x_test[batch_id,:,0])\n",
        "  print('\\n test accuracy:'+str(np.mean(pred==y_test)*100))\n",
        "  #break;"
      ]
    },
    {
      "cell_type": "markdown",
      "metadata": {
        "id": "drLEUB73PC0g"
      },
      "source": [
        "## Source data. 0, 1 ,2 "
      ]
    },
    {
      "cell_type": "code",
      "execution_count": null,
      "metadata": {
        "id": "6Da4YyMAPC0g",
        "outputId": "e689892d-f064-42cf-a97b-0ef8025491bb"
      },
      "outputs": [
        {
          "data": {
            "image/png": "[encoded data removed]",
            "text/plain": [
              "<Figure size 432x288 with 1 Axes>"
            ]
          },
          "metadata": {
            "needs_background": "light"
          },
          "output_type": "display_data"
        },
        {
          "data": {
            "image/png": "[encoded data removed]",
            "text/plain": [
              "<Figure size 432x288 with 1 Axes>"
            ]
          },
          "metadata": {
            "needs_background": "light"
          },
          "output_type": "display_data"
        },
        {
          "data": {
            "image/png": "[encoded data removed]",
            "text/plain": [
              "<Figure size 432x288 with 1 Axes>"
            ]
          },
          "metadata": {
            "needs_background": "light"
          },
          "output_type": "display_data"
        },
        {
          "name": "stdout",
          "output_type": "stream",
          "text": [
            "(18623, 28, 28, 1) (18623,)\n",
            "Number of  training : 18623\n",
            "Number of l test : 3147\n",
            "(18623, 784, 1) (3147, 784, 1)\n"
          ]
        }
      ],
      "source": [
        "\n",
        "(x_train, y_train), (x_test, y_test) = tf.keras.datasets.mnist.load_data()\n",
        "\n",
        "\n",
        "train_filter = np.where((y_train == 0 ) | (y_train == 1) | (y_train == 2))\n",
        "\n",
        "\n",
        "\n",
        "x_train_p = x_train[train_filter,:,:]\n",
        "x_train_p =x_train_p[0]\n",
        "y_train_p = y_train[train_filter]\n",
        "\n",
        "test_filter = np.where((y_test ==0) | (y_test ==1) | ( y_test ==2) )\n",
        "x_test_p = x_test[test_filter,:,:]\n",
        "x_test_p = x_test_p[0]\n",
        "y_test_p = y_test[test_filter]\n",
        "\n",
        "plt.imshow(x_train_p[0], cmap=plt.cm.binary)\n",
        "\n",
        "plt.show()\n",
        "plt.imshow(x_train_p[1], cmap=plt.cm.binary)\n",
        "\n",
        "plt.show()\n",
        "plt.imshow(x_train_p[2], cmap=plt.cm.binary)\n",
        "\n",
        "plt.show()\n",
        "\n",
        "\n",
        "# Rescale the images from [0,255] to the [0.0,1.0] range.\n",
        "x_train_p, x_test_p = x_train_p[..., np.newaxis]/255.0, x_test_p[..., np.newaxis]/255.0\n",
        "print(x_train_p.shape,y_train_p.shape)\n",
        "print(\"Number of  training :\", len(x_train_p))\n",
        "print(\"Number of l test :\", len(x_test_p))\n",
        "\n",
        "x_train_p=tf.reshape(x_train_p,(x_train_p.shape[0],-1,1))\n",
        "x_test_p=tf.reshape(x_test_p,(x_test_p.shape[0],-1,1))\n",
        "print(x_train_p.shape,x_test_p.shape)\n",
        "\n",
        "\n",
        "X_p=x_train_p.numpy()\n",
        "#print(X)\n",
        "labels_p=y_train_p\n",
        "\n",
        "x_test_p=x_test_p.numpy()\n",
        "y_test_p=y_test_p\n",
        "#print(y_test)\n",
        "r=7;\n",
        "nclasses=10\n",
        "\n",
        "\n",
        "\n",
        "\n",
        "\n",
        "\n",
        "\n"
      ]
    },
    {
      "cell_type": "markdown",
      "metadata": {
        "id": "fBShdqtDPC0h"
      },
      "source": [
        "## Target data 3, 4 ,5"
      ]
    },
    {
      "cell_type": "code",
      "execution_count": null,
      "metadata": {
        "id": "iGqGuJuOPC0h",
        "outputId": "cfd2c8ba-276b-4811-b90a-7036ca757974"
      },
      "outputs": [
        {
          "name": "stdout",
          "output_type": "stream",
          "text": [
            "(17394, 28, 28, 1) (17394,)\n",
            "Number of  training : 17394\n",
            "Number of l test : 2884\n",
            "(17394, 784, 1) (2884, 784, 1)\n"
          ]
        }
      ],
      "source": [
        "from scipy import ndimage\n",
        "\n",
        "(x_train, y_train), (x_test, y_test) = tf.keras.datasets.mnist.load_data()\n",
        "\n",
        "\n",
        "train_filter = np.where((y_train == 3 ) | (y_train == 4) | (y_train == 5))\n",
        "\n",
        "\n",
        "\n",
        "x_train_t = x_train[train_filter,:,:]\n",
        "x_train_t =x_train_t[0]\n",
        "y_train_t = y_train[train_filter]\n",
        "\n",
        "test_filter = np.where((y_test ==3) | (y_test ==4) | ( y_test ==5) )\n",
        "x_test_t = x_test[test_filter,:,:]\n",
        "x_test_t = x_test_t[0]\n",
        "y_test_t = y_test[test_filter]\n",
        "\n",
        "bg_value = -0.5 # this is regarded as background's value black\n",
        "x_train_rot = []\n",
        "\n",
        "for i in range(x_train_t.shape[0]):\n",
        "    image = np.reshape(x_train_t[i,:,:], (-1, 28))\n",
        "    \n",
        "    # rotate the image with random degree\n",
        "    angle = np.random.randint(-40,40,1)\n",
        "    \n",
        "    new_img = ndimage.rotate(image, angle[0],reshape=False, cval=bg_value)\n",
        "    x_train_rot.append(new_img)\n",
        "\n",
        "x_test_rot = []\n",
        "\n",
        "for i in range(x_test_t.shape[0]):\n",
        "    \n",
        "    image = np.reshape(x_test_t[i,:,:], (-1, 28))\n",
        "    # rotate the image with random degree\n",
        "    angle = np.random.randint(-50,50,1)\n",
        "    new_img = ndimage.rotate(image,angle[0],reshape=False, cval=bg_value)\n",
        "    x_test_rot.append(new_img)\n",
        "    \n",
        "x_train_rot = np.array(x_train_rot)\n",
        "x_test_rot = np.array(x_test_rot)\n",
        "\n",
        "# Rescale the images from [0,255] to the [0.0,1.0] range.\n",
        "x_train_t, x_test_t = x_train_rot[..., np.newaxis]/255.0, x_test_rot[..., np.newaxis]/255.0\n",
        "print(x_train_t.shape,y_train_t.shape)\n",
        "print(\"Number of  training :\", len(x_train_t))\n",
        "print(\"Number of l test :\", len(x_test_t))\n",
        "\n",
        "x_train_t=tf.reshape(x_train_t,(x_train_t.shape[0],-1,1))\n",
        "x_test_t=tf.reshape(x_test_t,(x_test_t.shape[0],-1,1))\n",
        "print(x_train_t.shape,x_test_t.shape)\n",
        "\n",
        "\n",
        "X_t=x_train_t.numpy()\n",
        "#print(X)\n",
        "labels_t=y_train_t\n",
        "\n",
        "x_test_t=x_test_t.numpy()\n",
        "y_test_t=y_test_t\n",
        "#print(y_test)\n",
        "r=7;\n",
        "nclasses=10\n",
        "\n",
        "           \n"
      ]
    },
    {
      "cell_type": "code",
      "execution_count": null,
      "metadata": {
        "id": "xKvIxGvEPC0h",
        "outputId": "daa9f368-cdb2-462d-c15a-6149d288fd0e"
      },
      "outputs": [
        {
          "data": {
            "image/png": "[encoded data removed]",
            "text/plain": [
              "<Figure size 432x288 with 1 Axes>"
            ]
          },
          "metadata": {
            "needs_background": "light"
          },
          "output_type": "display_data"
        },
        {
          "data": {
            "image/png": "[encoded data removed]",
            "text/plain": [
              "<Figure size 432x288 with 1 Axes>"
            ]
          },
          "metadata": {
            "needs_background": "light"
          },
          "output_type": "display_data"
        },
        {
          "data": {
            "image/png": "[encoded data removed]",
            "text/plain": [
              "<Figure size 432x288 with 1 Axes>"
            ]
          },
          "metadata": {
            "needs_background": "light"
          },
          "output_type": "display_data"
        }
      ],
      "source": [
        "plt.imshow(x_train_rot[0], cmap=plt.cm.binary)\n",
        "plt.show()\n",
        "\n",
        "plt.imshow(x_train_rot[1], cmap=plt.cm.binary)\n",
        "plt.show()\n",
        "\n",
        "plt.imshow(x_train_rot[2], cmap=plt.cm.binary)\n",
        "plt.show()\n"
      ]
    },
    {
      "cell_type": "code",
      "execution_count": null,
      "metadata": {
        "id": "a7FxfnKuPC0h",
        "outputId": "57f2a3c9-f5a3-4605-ead8-acb9b0da72e1"
      },
      "outputs": [
        {
          "data": {
            "text/plain": [
              "(2884, 784, 1)"
            ]
          },
          "execution_count": 56,
          "metadata": {},
          "output_type": "execute_result"
        }
      ],
      "source": [
        "x_test_t.shape\n"
      ]
    },
    {
      "cell_type": "code",
      "execution_count": null,
      "metadata": {
        "id": "lC7vPfruPC0i",
        "outputId": "d35e2cf9-ae8b-44f2-dc72-dfe52f5e9489"
      },
      "outputs": [
        {
          "data": {
            "text/plain": [
              "TensorShape([17394, 784, 1])"
            ]
          },
          "execution_count": 57,
          "metadata": {},
          "output_type": "execute_result"
        }
      ],
      "source": [
        "x_train_t.shape"
      ]
    },
    {
      "cell_type": "markdown",
      "metadata": {
        "id": "929gSqarPC0i"
      },
      "source": [
        "## gmlvq"
      ]
    },
    {
      "cell_type": "code",
      "execution_count": null,
      "metadata": {
        "id": "qG6puJIyPC0i",
        "outputId": "99b92c25-20dc-4853-bf71-101d48aaab10"
      },
      "outputs": [
        {
          "name": "stdout",
          "output_type": "stream",
          "text": [
            "(18623, 784, 1)\n"
          ]
        }
      ],
      "source": [
        "\n",
        "import time\n",
        "from tqdm import tqdm\n",
        "from sklearn.cluster import KMeans\n",
        "#from tqdm.notebook import tqdm\n",
        "#from numpy.random import multivariate_normal\n",
        "#from sklearn.mixture import GaussianMixture\n",
        "#from sklearn.model_selection import train_test_split\n",
        "\n",
        "#if hasattr(tqdm, '_instances'): tqdm._instances.clear() # clear if it exists\n",
        "#r=7;\n",
        "no_of_weights_perclss=3;\n",
        "use='gmlvq'\n",
        "#use='gltvq'\n",
        "#############################\n",
        "\n",
        "def NormalizeData(x,mu=None,sigma=None):\n",
        "  if(mu==None):\n",
        "    mu=np.mean(x,axis=0,keepdims=True);\n",
        "    sigma=np.std(x,axis=0,keepdims=True);\n",
        "  return (x-mu)/sigma,mu,sigma\n",
        "\n",
        "def GetInit(X,y,r,nclasses,no_of_weights_perclss):  ##Kmeans init (GMM  might be better)\n",
        "  winit=np.zeros((nclasses*no_of_weights_perclss,X.shape[1]))\n",
        "  Winit=np.zeros((nclasses*no_of_weights_perclss,X.shape[1],r))\n",
        "  for j in range(nclasses):\n",
        "    if(no_of_weights_perclss>1):\n",
        "      pass;\n",
        "    else:\n",
        "      #print(X.shape)\n",
        "      winit[j,:]=np.mean(X[y==j,:,0],axis=0)\n",
        "      covmat=np.cov(X[y==j,:,0],rowvar=False);\n",
        "      e,Ev=np.linalg.eigh(covmat)\n",
        "      #print(e)\n",
        "      Winit[j,:,:]=Ev[:,-r:]\n",
        "  return winit.astype('float32'),Winit.astype('float32')\n",
        "\n",
        "optimizer=tf.compat.v1.train.GradientDescentOptimizer(learning_rate=1e-2);\n",
        "print(X_p.shape)\n",
        "\n",
        "\n",
        "\n",
        "X_p,_,_=X_p,X_p,X_p;#NormalizeData(X)\n",
        "winit,Winit=GetInit(X_p,y_train_p,r,nclasses,no_of_weights_perclss)\n",
        "\n",
        "## Layer definition\n",
        "if(use=='gmlvq'):\n",
        "  layer_m=GMLVQ(X_p.shape[1],no_of_weights_perclss,nclasses,winit=winit)  #feat_dim,no_of_wts_per_class,num_classes,do_transfer=0,winit=None,type_transfer='LFT-TDS'\n",
        "  epochs=5;\n",
        "else:\n",
        "  layer_t = GLTVQ(X_p.shape[1],r,no_of_weights_perclss,nclasses,winit=winit,Winit=Winit)\n",
        "  epochs=5;\n",
        "\n"
      ]
    },
    {
      "cell_type": "code",
      "execution_count": null,
      "metadata": {
        "id": "HBF6ur51PC0i",
        "outputId": "0e483477-345f-4b36-85bd-fa233a1f65ff"
      },
      "outputs": [
        {
          "name": "stderr",
          "output_type": "stream",
          "text": [
            "  0%|                                                                                | 8/18623 [00:00<04:13, 73.39it/s]"
          ]
        },
        {
          "name": "stdout",
          "output_type": "stream",
          "text": [
            "\n",
            "Start of epoch 0\n"
          ]
        },
        {
          "name": "stderr",
          "output_type": "stream",
          "text": [
            "100%|████████████████████████████████████████████████████████████████████████████| 18623/18623 [03:27<00:00, 89.59it/s]\n",
            "  0%|                                                                                | 9/18623 [00:00<03:39, 84.94it/s]"
          ]
        },
        {
          "name": "stdout",
          "output_type": "stream",
          "text": [
            "\n",
            " test accuracy:96.05973943438195\n",
            "\n",
            "Start of epoch 1\n"
          ]
        },
        {
          "name": "stderr",
          "output_type": "stream",
          "text": [
            "100%|████████████████████████████████████████████████████████████████████████████| 18623/18623 [03:28<00:00, 89.16it/s]\n",
            "  0%|                                                                                | 9/18623 [00:00<03:32, 87.44it/s]"
          ]
        },
        {
          "name": "stdout",
          "output_type": "stream",
          "text": [
            "\n",
            " test accuracy:97.14013346043852\n",
            "\n",
            "Start of epoch 2\n"
          ]
        },
        {
          "name": "stderr",
          "output_type": "stream",
          "text": [
            "100%|████████████████████████████████████████████████████████████████████████████| 18623/18623 [03:26<00:00, 90.16it/s]\n",
            "  0%|                                                                               | 10/18623 [00:00<03:17, 94.38it/s]"
          ]
        },
        {
          "name": "stdout",
          "output_type": "stream",
          "text": [
            "\n",
            " test accuracy:97.29901493485859\n",
            "\n",
            "Start of epoch 3\n"
          ]
        },
        {
          "name": "stderr",
          "output_type": "stream",
          "text": [
            "100%|████████████████████████████████████████████████████████████████████████████| 18623/18623 [03:51<00:00, 80.57it/s]\n",
            "  0%|                                                                                | 9/18623 [00:00<03:30, 88.27it/s]"
          ]
        },
        {
          "name": "stdout",
          "output_type": "stream",
          "text": [
            "\n",
            " test accuracy:97.55322529393072\n",
            "\n",
            "Start of epoch 4\n"
          ]
        },
        {
          "name": "stderr",
          "output_type": "stream",
          "text": [
            "100%|████████████████████████████████████████████████████████████████████████████| 18623/18623 [03:23<00:00, 91.49it/s]\n"
          ]
        },
        {
          "name": "stdout",
          "output_type": "stream",
          "text": [
            "\n",
            " test accuracy:97.55322529393072\n"
          ]
        }
      ],
      "source": [
        "for epoch in range(epochs):\n",
        "\n",
        "  #IPython.display.clear_output(wait=True)\n",
        "  #plotter.plot(X_train,y_train,layer.w.numpy())\n",
        "  print(\"\\nStart of epoch %d\" % (epoch,))\n",
        "  start_time = time.time()\n",
        "  accuracy=0.0;\n",
        "  ############# Iterate over the batches of the dataset ###########\n",
        "  for batch_id in tqdm(range(X_p.shape[0]), position=0, leave=True):\n",
        "    with tf.GradientTape() as tape:\n",
        "        loss= layer_m(X_p[batch_id,:,0],y_train_p[batch_id])   ## Compute forward pass\n",
        "\n",
        "    grads = tape.gradient(loss, layer_m.trainable_variables)     ## Compute weight gradient\n",
        "    optimizer.apply_gradients(zip(grads, layer_m.trainable_variables))  ## update weights\n",
        "    if(use=='gltvq'):\n",
        "      layer_m.Orthonormalize()\n",
        "\n",
        "  ord=np.random.permutation(np.arange(X_p.shape[0]))\n",
        "  #X=X[ord,:]  #Shufling for SGD \n",
        "  #labels=labels[ord]\n",
        "  ####### Accuracy computation ##################\n",
        "  pred=np.zeros(x_test_p.shape[0])\n",
        "  for batch_id in range(x_test_p.shape[0]):\n",
        "    pred[batch_id]=layer_m.PointPredict(x_test_p[batch_id,:,0])\n",
        "  print('\\n test accuracy:'+str(np.mean(pred==y_test_p)*100))\n",
        "  #break;"
      ]
    },
    {
      "cell_type": "markdown",
      "metadata": {
        "id": "gbr_7SVYPC0j"
      },
      "source": [
        "## transfer learning for gmlvq"
      ]
    },
    {
      "cell_type": "code",
      "execution_count": null,
      "metadata": {
        "id": "e5Tdk7yiPC0j",
        "outputId": "1a448be2-57bf-40d8-9cd9-e5e16af194ec"
      },
      "outputs": [
        {
          "name": "stderr",
          "output_type": "stream",
          "text": [
            "  0%|                                                                               | 10/17394 [00:00<03:07, 92.62it/s]"
          ]
        },
        {
          "name": "stdout",
          "output_type": "stream",
          "text": [
            "\n",
            "Start of epoch 0\n"
          ]
        },
        {
          "name": "stderr",
          "output_type": "stream",
          "text": [
            "100%|████████████████████████████████████████████████████████████████████████████| 17394/17394 [03:24<00:00, 85.00it/s]\n",
            "  0%|                                                                               | 10/17394 [00:00<03:09, 91.78it/s]"
          ]
        },
        {
          "name": "stdout",
          "output_type": "stream",
          "text": [
            "\n",
            " test accuracy:79.09153952843273\n",
            "\n",
            "Start of epoch 1\n"
          ]
        },
        {
          "name": "stderr",
          "output_type": "stream",
          "text": [
            "100%|████████████████████████████████████████████████████████████████████████████| 17394/17394 [03:12<00:00, 90.56it/s]\n",
            "  0%|                                                                                | 9/17394 [00:00<03:17, 87.85it/s]"
          ]
        },
        {
          "name": "stdout",
          "output_type": "stream",
          "text": [
            "\n",
            " test accuracy:82.97503467406379\n",
            "\n",
            "Start of epoch 2\n"
          ]
        },
        {
          "name": "stderr",
          "output_type": "stream",
          "text": [
            "100%|████████████████████████████████████████████████████████████████████████████| 17394/17394 [03:15<00:00, 89.15it/s]\n",
            "  0%|                                                                                | 9/17394 [00:00<03:16, 88.27it/s]"
          ]
        },
        {
          "name": "stdout",
          "output_type": "stream",
          "text": [
            "\n",
            " test accuracy:84.74341192787794\n",
            "\n",
            "Start of epoch 3\n"
          ]
        },
        {
          "name": "stderr",
          "output_type": "stream",
          "text": [
            "100%|████████████████████████████████████████████████████████████████████████████| 17394/17394 [03:19<00:00, 87.31it/s]\n",
            "  0%|                                                                               | 10/17394 [00:00<03:19, 86.99it/s]"
          ]
        },
        {
          "name": "stdout",
          "output_type": "stream",
          "text": [
            "\n",
            " test accuracy:85.64493758668516\n",
            "\n",
            "Start of epoch 4\n"
          ]
        },
        {
          "name": "stderr",
          "output_type": "stream",
          "text": [
            "100%|████████████████████████████████████████████████████████████████████████████| 17394/17394 [03:05<00:00, 93.66it/s]\n"
          ]
        },
        {
          "name": "stdout",
          "output_type": "stream",
          "text": [
            "\n",
            " test accuracy:86.3384188626907\n"
          ]
        }
      ],
      "source": [
        "use='gmlvq'\n",
        "for epoch in range(epochs):\n",
        "\n",
        "  #IPython.display.clear_output(wait=True)\n",
        "  #plotter.plot(X_train,y_train,layer.w.numpy())\n",
        "  print(\"\\nStart of epoch %d\" % (epoch,))\n",
        "  start_time = time.time()\n",
        " \n",
        "  ############# Iterate over the batches of the dataset ###########\n",
        "  for batch_id in tqdm(range(X_t.shape[0]), position=0, leave=True):\n",
        "    with tf.GradientTape() as tape:\n",
        "        loss= layer_m(X_t[batch_id,:,0],y_train_t[batch_id])   ## Compute forward pass\n",
        "\n",
        "    grads = tape.gradient(loss, layer_m.trainable_variables)     ## Compute weight gradient\n",
        "    optimizer.apply_gradients(zip(grads, layer_m.trainable_variables))  ## update weights\n",
        "    if(use=='gltvq'):\n",
        "      layer_m.Orthonormalize()\n",
        "\n",
        "  ord=np.random.permutation(np.arange(X_t.shape[0]))\n",
        "  #X=X[ord,:]  #Shufling for SGD \n",
        "  #labels=labels[ord]\n",
        "  ####### Accuracy computation ##################\n",
        "  pred=np.zeros(x_test_t.shape[0])\n",
        "  for batch_id in range(x_test_t.shape[0]):\n",
        "    pred[batch_id]=layer_m.PointPredict(x_test_t[batch_id,:,0])\n",
        "  print('\\n test accuracy:'+str(np.mean(pred==y_test_t)*100))\n",
        "  #break;"
      ]
    },
    {
      "cell_type": "markdown",
      "metadata": {
        "id": "Fx3Eu2ArPC0j"
      },
      "source": [
        "## gltvq"
      ]
    },
    {
      "cell_type": "code",
      "execution_count": null,
      "metadata": {
        "id": "hnlWhDfnPC0j",
        "outputId": "e134127c-c8a6-4ce4-f9a4-0fdda6107536"
      },
      "outputs": [
        {
          "name": "stdout",
          "output_type": "stream",
          "text": [
            "(18623, 784, 1)\n"
          ]
        }
      ],
      "source": [
        "import time\n",
        "from tqdm import tqdm\n",
        "from sklearn.cluster import KMeans\n",
        "#from tqdm.notebook import tqdm\n",
        "#from numpy.random import multivariate_normal\n",
        "#from sklearn.mixture import GaussianMixture\n",
        "#from sklearn.model_selection import train_test_split\n",
        "\n",
        "#if hasattr(tqdm, '_instances'): tqdm._instances.clear() # clear if it exists\n",
        "#r=7;\n",
        "no_of_weights_perclss=3;\n",
        "#use='gmlvq'\n",
        "use='gltvq'\n",
        "#############################\n",
        "\n",
        "def NormalizeData(x,mu=None,sigma=None):\n",
        "  if(mu==None):\n",
        "    mu=np.mean(x,axis=0,keepdims=True);\n",
        "    sigma=np.std(x,axis=0,keepdims=True);\n",
        "  return (x-mu)/sigma,mu,sigma\n",
        "\n",
        "def GetInit(X,y,r,nclasses,no_of_weights_perclss):  ##Kmeans init (GMM  might be better)\n",
        "  winit=np.zeros((nclasses*no_of_weights_perclss,X.shape[1]))\n",
        "  Winit=np.zeros((nclasses*no_of_weights_perclss,X.shape[1],r))\n",
        "  for j in range(nclasses):\n",
        "    if(no_of_weights_perclss>1):\n",
        "      pass;\n",
        "    else:\n",
        "      #print(X.shape)\n",
        "      winit[j,:]=np.mean(X[y==j,:,0],axis=0)\n",
        "      covmat=np.cov(X[y==j,:,0],rowvar=False);\n",
        "      e,Ev=np.linalg.eigh(covmat)\n",
        "      #print(e)\n",
        "      Winit[j,:,:]=Ev[:,-r:]\n",
        "  return winit.astype('float32'),Winit.astype('float32')\n",
        "\n",
        "optimizer=tf.compat.v1.train.GradientDescentOptimizer(learning_rate=1e-2);\n",
        "print(X_p.shape)\n",
        "\n",
        "\n",
        "\n",
        "X_p,_,_=X_p,X_p,X_p;#NormalizeData(X)\n",
        "winit,Winit=GetInit(X_p,y_train_p,r,nclasses,no_of_weights_perclss)\n",
        "\n",
        "## Layer definition\n",
        "if(use=='gmlvq'):\n",
        "  layer_m=GMLVQ(X_p.shape[1],no_of_weights_perclss,nclasses,winit=winit)  #feat_dim,no_of_wts_per_class,num_classes,do_transfer=0,winit=None,type_transfer='LFT-TDS'\n",
        "  epochs=5;\n",
        "else:\n",
        "  \n",
        "  layer_t = GLTVQ(X_p.shape[1],r,no_of_weights_perclss,nclasses,winit=winit)\n",
        "  epochs=5;\n",
        "\n"
      ]
    },
    {
      "cell_type": "code",
      "execution_count": null,
      "metadata": {
        "id": "6dAGefn8PC0k",
        "outputId": "9f5b87c3-bade-468b-8d5e-032049431fcf"
      },
      "outputs": [
        {
          "name": "stderr",
          "output_type": "stream",
          "text": [
            "  0%|                                                                                | 2/18623 [00:00<20:13, 15.35it/s]"
          ]
        },
        {
          "name": "stdout",
          "output_type": "stream",
          "text": [
            "\n",
            "Start of epoch 0\n"
          ]
        },
        {
          "name": "stderr",
          "output_type": "stream",
          "text": [
            "100%|████████████████████████████████████████████████████████████████████████████| 18623/18623 [20:19<00:00, 15.28it/s]\n",
            "  0%|                                                                                | 2/18623 [00:00<19:04, 16.28it/s]"
          ]
        },
        {
          "name": "stdout",
          "output_type": "stream",
          "text": [
            "\n",
            " test accuracy:88.17921830314586\n",
            "\n",
            "Start of epoch 1\n"
          ]
        },
        {
          "name": "stderr",
          "output_type": "stream",
          "text": [
            "100%|████████████████████████████████████████████████████████████████████████████| 18623/18623 [21:20<00:00, 14.54it/s]\n",
            "  0%|                                                                                | 2/18623 [00:00<20:56, 14.82it/s]"
          ]
        },
        {
          "name": "stdout",
          "output_type": "stream",
          "text": [
            "\n",
            " test accuracy:88.30632348268192\n",
            "\n",
            "Start of epoch 2\n"
          ]
        },
        {
          "name": "stderr",
          "output_type": "stream",
          "text": [
            "100%|████████████████████████████████████████████████████████████████████████████| 18623/18623 [20:07<00:00, 15.43it/s]\n",
            "  0%|                                                                                | 2/18623 [00:00<18:18, 16.96it/s]"
          ]
        },
        {
          "name": "stdout",
          "output_type": "stream",
          "text": [
            "\n",
            " test accuracy:88.43342866221798\n",
            "\n",
            "Start of epoch 3\n"
          ]
        },
        {
          "name": "stderr",
          "output_type": "stream",
          "text": [
            "100%|████████████████████████████████████████████████████████████████████████████| 18623/18623 [20:55<00:00, 14.84it/s]\n",
            "  0%|                                                                                | 2/18623 [00:00<20:18, 15.28it/s]"
          ]
        },
        {
          "name": "stdout",
          "output_type": "stream",
          "text": [
            "\n",
            " test accuracy:88.465204957102\n",
            "\n",
            "Start of epoch 4\n"
          ]
        },
        {
          "name": "stderr",
          "output_type": "stream",
          "text": [
            "100%|████████████████████████████████████████████████████████████████████████████| 18623/18623 [19:44<00:00, 15.72it/s]\n"
          ]
        },
        {
          "name": "stdout",
          "output_type": "stream",
          "text": [
            "\n",
            " test accuracy:88.30632348268192\n"
          ]
        }
      ],
      "source": [
        "for epoch in range(epochs):\n",
        "  #IPython.display.clear_output(wait=True)\n",
        "  #plotter.plot(X_train,y_train,layer.w.numpy())\n",
        "  print(\"\\nStart of epoch %d\" % (epoch,))\n",
        "  start_time = time.time()\n",
        "  accuracy=0.0;\n",
        "  ############# Iterate over the batches of the dataset ###########\n",
        "  for batch_id in tqdm(range(X_p.shape[0]), position=0, leave=True):\n",
        "    with tf.GradientTape() as tape:\n",
        "        loss= layer_t(X_p[batch_id,:,0],y_train_p[batch_id])   ## Compute forward pass\n",
        "\n",
        "    grads = tape.gradient(loss, layer_t.trainable_variables)     ## Compute weight gradient\n",
        "    optimizer.apply_gradients(zip(grads, layer_t.trainable_variables))  ## update weights\n",
        "    if(use=='gltvq'):\n",
        "      layer_t.Orthonormalize()\n",
        "\n",
        "  ord=np.random.permutation(np.arange(X_p.shape[0]))\n",
        "  #X=X[ord,:]  #Shufling for SGD \n",
        "  #labels=labels[ord]\n",
        "  ####### Accuracy computation ##################\n",
        "  pred=np.zeros(x_test_p.shape[0])\n",
        "  for batch_id in range(x_test_p.shape[0]):\n",
        "    pred[batch_id]=layer_t.PointPredict(x_test_p[batch_id,:,0])\n",
        "  print('\\n test accuracy:'+str(np.mean(pred==y_test_p)*100))\n",
        "  #break;"
      ]
    },
    {
      "cell_type": "markdown",
      "metadata": {
        "id": "w9s4qqjaPC0k"
      },
      "source": [
        "## transfer learning of gltvq"
      ]
    },
    {
      "cell_type": "code",
      "execution_count": null,
      "metadata": {
        "id": "NgvmzaoOPC0k",
        "outputId": "079e6e25-713a-483b-f96f-32f33aea2540"
      },
      "outputs": [
        {
          "name": "stderr",
          "output_type": "stream",
          "text": [
            "\r",
            "  0%|                                                                                        | 0/17394 [00:00<?, ?it/s]"
          ]
        },
        {
          "name": "stdout",
          "output_type": "stream",
          "text": [
            "\n",
            "Start of epoch 0\n"
          ]
        },
        {
          "name": "stderr",
          "output_type": "stream",
          "text": [
            "100%|████████████████████████████████████████████████████████████████████████████| 17394/17394 [18:55<00:00, 15.31it/s]\n",
            "  0%|                                                                                | 2/17394 [00:00<19:16, 15.04it/s]"
          ]
        },
        {
          "name": "stdout",
          "output_type": "stream",
          "text": [
            "\n",
            " test accuracy:62.066574202496525\n",
            "\n",
            "Start of epoch 1\n"
          ]
        },
        {
          "name": "stderr",
          "output_type": "stream",
          "text": [
            "100%|████████████████████████████████████████████████████████████████████████████| 17394/17394 [18:42<00:00, 15.50it/s]\n",
            "  0%|                                                                                | 2/17394 [00:00<18:50, 15.38it/s]"
          ]
        },
        {
          "name": "stdout",
          "output_type": "stream",
          "text": [
            "\n",
            " test accuracy:63.45353675450763\n",
            "\n",
            "Start of epoch 2\n"
          ]
        },
        {
          "name": "stderr",
          "output_type": "stream",
          "text": [
            "100%|████████████████████████████████████████████████████████████████████████████| 17394/17394 [19:13<00:00, 15.07it/s]\n",
            "  0%|                                                                                | 2/17394 [00:00<16:56, 17.10it/s]"
          ]
        },
        {
          "name": "stdout",
          "output_type": "stream",
          "text": [
            "\n",
            " test accuracy:64.70180305131763\n",
            "\n",
            "Start of epoch 3\n"
          ]
        },
        {
          "name": "stderr",
          "output_type": "stream",
          "text": [
            "100%|████████████████████████████████████████████████████████████████████████████| 17394/17394 [19:05<00:00, 15.18it/s]\n",
            "  0%|                                                                                | 2/17394 [00:00<17:40, 16.40it/s]"
          ]
        },
        {
          "name": "stdout",
          "output_type": "stream",
          "text": [
            "\n",
            " test accuracy:67.37170596393898\n",
            "\n",
            "Start of epoch 4\n"
          ]
        },
        {
          "name": "stderr",
          "output_type": "stream",
          "text": [
            "100%|████████████████████████████████████████████████████████████████████████████| 17394/17394 [19:20<00:00, 14.99it/s]\n"
          ]
        },
        {
          "name": "stdout",
          "output_type": "stream",
          "text": [
            "\n",
            " test accuracy:67.40638002773926\n"
          ]
        }
      ],
      "source": [
        "for epoch in range(epochs):\n",
        "  #IPython.display.clear_output(wait=True)\n",
        "  #plotter.plot(X_train,y_train,layer.w.numpy())\n",
        "  print(\"\\nStart of epoch %d\" % (epoch,))\n",
        "  start_time = time.time()\n",
        "  accuracy=0.0;\n",
        "  ############# Iterate over the batches of the dataset ###########\n",
        "  for batch_id in tqdm(range(X_t.shape[0]), position=0, leave=True):\n",
        "    with tf.GradientTape() as tape:\n",
        "        loss= layer_t(X_t[batch_id,:,0],y_train_t[batch_id])   ## Compute forward pass\n",
        "\n",
        "    grads = tape.gradient(loss, layer_t.trainable_variables)     ## Compute weight gradient\n",
        "    optimizer.apply_gradients(zip(grads, layer_t.trainable_variables))  ## update weights\n",
        "    if(use=='gltvq'):\n",
        "      layer_t.Orthonormalize()\n",
        "\n",
        "  ord=np.random.permutation(np.arange(X_t.shape[0]))\n",
        "  #X=X[ord,:]  #Shufling for SGD \n",
        "  #labels=labels[ord]\n",
        "  ####### Accuracy computation ##################\n",
        "  pred=np.zeros(x_test_t.shape[0])\n",
        "  for batch_id in range(x_test_t.shape[0]):\n",
        "    pred[batch_id]=layer_t.PointPredict(x_test_t[batch_id,:,0])\n",
        "  print('\\n test accuracy:'+str(np.mean(pred==y_test_t)*100))\n",
        "  #break;"
      ]
    },
    {
      "cell_type": "code",
      "execution_count": null,
      "metadata": {
        "id": "njjQbe2MPC0l"
      },
      "outputs": [],
      "source": [
        ""
      ]
    }
  ],
  "metadata": {
    "colab": {
      "collapsed_sections": [],
      "name": "tl_5(2).ipynb",
      "provenance": []
    },
    "kernelspec": {
      "display_name": "Python 3",
      "language": "python",
      "name": "python3"
    },
    "language_info": {
      "codemirror_mode": {
        "name": "ipython",
        "version": 3
      },
      "file_extension": ".py",
      "mimetype": "text/x-python",
      "name": "python",
      "nbconvert_exporter": "python",
      "pygments_lexer": "ipython3",
      "version": "3.8.8"
    },
    "widgets": {
      "application/vnd.jupyter.widget-state+json": {
        "33aba4e6bfc74bf5a3bc02a67df5c1fd": {
          "model_module": "@jupyter-widgets/controls",
          "model_name": "HBoxModel",
          "model_module_version": "1.5.0",
          "state": {
            "_view_name": "HBoxView",
            "_dom_classes": [],
            "_model_name": "HBoxModel",
            "_view_module": "@jupyter-widgets/controls",
            "_model_module_version": "1.5.0",
            "_view_count": null,
            "_view_module_version": "1.5.0",
            "box_style": "",
            "layout": "IPY_MODEL_dd56a26027d94ea28dbc150b53053628",
            "_model_module": "@jupyter-widgets/controls",
            "children": [
              "IPY_MODEL_14d17533ed35431faea6aaab796b3606",
              "IPY_MODEL_ebd7bf57edd441b7937a33e5b1461f85",
              "IPY_MODEL_282fbc3550944891a86ef2350ec54834"
            ]
          }
        },
        "dd56a26027d94ea28dbc150b53053628": {
          "model_module": "@jupyter-widgets/base",
          "model_name": "LayoutModel",
          "model_module_version": "1.2.0",
          "state": {
            "_view_name": "LayoutView",
            "grid_template_rows": null,
            "right": null,
            "justify_content": null,
            "_view_module": "@jupyter-widgets/base",
            "overflow": null,
            "_model_module_version": "1.2.0",
            "_view_count": null,
            "flex_flow": null,
            "width": null,
            "min_width": null,
            "border": null,
            "align_items": null,
            "bottom": null,
            "_model_module": "@jupyter-widgets/base",
            "top": null,
            "grid_column": null,
            "overflow_y": null,
            "overflow_x": null,
            "grid_auto_flow": null,
            "grid_area": null,
            "grid_template_columns": null,
            "flex": null,
            "_model_name": "LayoutModel",
            "justify_items": null,
            "grid_row": null,
            "max_height": null,
            "align_content": null,
            "visibility": null,
            "align_self": null,
            "height": null,
            "min_height": null,
            "padding": null,
            "grid_auto_rows": null,
            "grid_gap": null,
            "max_width": null,
            "order": null,
            "_view_module_version": "1.2.0",
            "grid_template_areas": null,
            "object_position": null,
            "object_fit": null,
            "grid_auto_columns": null,
            "margin": null,
            "display": null,
            "left": null
          }
        },
        "14d17533ed35431faea6aaab796b3606": {
          "model_module": "@jupyter-widgets/controls",
          "model_name": "HTMLModel",
          "model_module_version": "1.5.0",
          "state": {
            "_view_name": "HTMLView",
            "style": "IPY_MODEL_84e32d006d7e4a14b0ae6b140a1f5a5f",
            "_dom_classes": [],
            "description": "",
            "_model_name": "HTMLModel",
            "placeholder": "​",
            "_view_module": "@jupyter-widgets/controls",
            "_model_module_version": "1.5.0",
            "value": "100%",
            "_view_count": null,
            "_view_module_version": "1.5.0",
            "description_tooltip": null,
            "_model_module": "@jupyter-widgets/controls",
            "layout": "IPY_MODEL_43d6187b695846708079518f39796b18"
          }
        },
        "ebd7bf57edd441b7937a33e5b1461f85": {
          "model_module": "@jupyter-widgets/controls",
          "model_name": "FloatProgressModel",
          "model_module_version": "1.5.0",
          "state": {
            "_view_name": "ProgressView",
            "style": "IPY_MODEL_e4320547ff26452592f92a0401192489",
            "_dom_classes": [],
            "description": "",
            "_model_name": "FloatProgressModel",
            "bar_style": "success",
            "max": 402,
            "_view_module": "@jupyter-widgets/controls",
            "_model_module_version": "1.5.0",
            "value": 402,
            "_view_count": null,
            "_view_module_version": "1.5.0",
            "orientation": "horizontal",
            "min": 0,
            "description_tooltip": null,
            "_model_module": "@jupyter-widgets/controls",
            "layout": "IPY_MODEL_17dc18a0382940e18be2bf4c537e9734"
          }
        },
        "282fbc3550944891a86ef2350ec54834": {
          "model_module": "@jupyter-widgets/controls",
          "model_name": "HTMLModel",
          "model_module_version": "1.5.0",
          "state": {
            "_view_name": "HTMLView",
            "style": "IPY_MODEL_d1d6209da9f64ff4b92cb64161fc3271",
            "_dom_classes": [],
            "description": "",
            "_model_name": "HTMLModel",
            "placeholder": "​",
            "_view_module": "@jupyter-widgets/controls",
            "_model_module_version": "1.5.0",
            "value": " 402/402 [00:05&lt;00:00, 74.15it/s]",
            "_view_count": null,
            "_view_module_version": "1.5.0",
            "description_tooltip": null,
            "_model_module": "@jupyter-widgets/controls",
            "layout": "IPY_MODEL_3df59e7ebf6f4de3bf16651a8a3d4016"
          }
        },
        "84e32d006d7e4a14b0ae6b140a1f5a5f": {
          "model_module": "@jupyter-widgets/controls",
          "model_name": "DescriptionStyleModel",
          "model_module_version": "1.5.0",
          "state": {
            "_view_name": "StyleView",
            "_model_name": "DescriptionStyleModel",
            "description_width": "",
            "_view_module": "@jupyter-widgets/base",
            "_model_module_version": "1.5.0",
            "_view_count": null,
            "_view_module_version": "1.2.0",
            "_model_module": "@jupyter-widgets/controls"
          }
        },
        "43d6187b695846708079518f39796b18": {
          "model_module": "@jupyter-widgets/base",
          "model_name": "LayoutModel",
          "model_module_version": "1.2.0",
          "state": {
            "_view_name": "LayoutView",
            "grid_template_rows": null,
            "right": null,
            "justify_content": null,
            "_view_module": "@jupyter-widgets/base",
            "overflow": null,
            "_model_module_version": "1.2.0",
            "_view_count": null,
            "flex_flow": null,
            "width": null,
            "min_width": null,
            "border": null,
            "align_items": null,
            "bottom": null,
            "_model_module": "@jupyter-widgets/base",
            "top": null,
            "grid_column": null,
            "overflow_y": null,
            "overflow_x": null,
            "grid_auto_flow": null,
            "grid_area": null,
            "grid_template_columns": null,
            "flex": null,
            "_model_name": "LayoutModel",
            "justify_items": null,
            "grid_row": null,
            "max_height": null,
            "align_content": null,
            "visibility": null,
            "align_self": null,
            "height": null,
            "min_height": null,
            "padding": null,
            "grid_auto_rows": null,
            "grid_gap": null,
            "max_width": null,
            "order": null,
            "_view_module_version": "1.2.0",
            "grid_template_areas": null,
            "object_position": null,
            "object_fit": null,
            "grid_auto_columns": null,
            "margin": null,
            "display": null,
            "left": null
          }
        },
        "e4320547ff26452592f92a0401192489": {
          "model_module": "@jupyter-widgets/controls",
          "model_name": "ProgressStyleModel",
          "model_module_version": "1.5.0",
          "state": {
            "_view_name": "StyleView",
            "_model_name": "ProgressStyleModel",
            "description_width": "",
            "_view_module": "@jupyter-widgets/base",
            "_model_module_version": "1.5.0",
            "_view_count": null,
            "_view_module_version": "1.2.0",
            "bar_color": null,
            "_model_module": "@jupyter-widgets/controls"
          }
        },
        "17dc18a0382940e18be2bf4c537e9734": {
          "model_module": "@jupyter-widgets/base",
          "model_name": "LayoutModel",
          "model_module_version": "1.2.0",
          "state": {
            "_view_name": "LayoutView",
            "grid_template_rows": null,
            "right": null,
            "justify_content": null,
            "_view_module": "@jupyter-widgets/base",
            "overflow": null,
            "_model_module_version": "1.2.0",
            "_view_count": null,
            "flex_flow": null,
            "width": null,
            "min_width": null,
            "border": null,
            "align_items": null,
            "bottom": null,
            "_model_module": "@jupyter-widgets/base",
            "top": null,
            "grid_column": null,
            "overflow_y": null,
            "overflow_x": null,
            "grid_auto_flow": null,
            "grid_area": null,
            "grid_template_columns": null,
            "flex": null,
            "_model_name": "LayoutModel",
            "justify_items": null,
            "grid_row": null,
            "max_height": null,
            "align_content": null,
            "visibility": null,
            "align_self": null,
            "height": null,
            "min_height": null,
            "padding": null,
            "grid_auto_rows": null,
            "grid_gap": null,
            "max_width": null,
            "order": null,
            "_view_module_version": "1.2.0",
            "grid_template_areas": null,
            "object_position": null,
            "object_fit": null,
            "grid_auto_columns": null,
            "margin": null,
            "display": null,
            "left": null
          }
        },
        "d1d6209da9f64ff4b92cb64161fc3271": {
          "model_module": "@jupyter-widgets/controls",
          "model_name": "DescriptionStyleModel",
          "model_module_version": "1.5.0",
          "state": {
            "_view_name": "StyleView",
            "_model_name": "DescriptionStyleModel",
            "description_width": "",
            "_view_module": "@jupyter-widgets/base",
            "_model_module_version": "1.5.0",
            "_view_count": null,
            "_view_module_version": "1.2.0",
            "_model_module": "@jupyter-widgets/controls"
          }
        },
        "3df59e7ebf6f4de3bf16651a8a3d4016": {
          "model_module": "@jupyter-widgets/base",
          "model_name": "LayoutModel",
          "model_module_version": "1.2.0",
          "state": {
            "_view_name": "LayoutView",
            "grid_template_rows": null,
            "right": null,
            "justify_content": null,
            "_view_module": "@jupyter-widgets/base",
            "overflow": null,
            "_model_module_version": "1.2.0",
            "_view_count": null,
            "flex_flow": null,
            "width": null,
            "min_width": null,
            "border": null,
            "align_items": null,
            "bottom": null,
            "_model_module": "@jupyter-widgets/base",
            "top": null,
            "grid_column": null,
            "overflow_y": null,
            "overflow_x": null,
            "grid_auto_flow": null,
            "grid_area": null,
            "grid_template_columns": null,
            "flex": null,
            "_model_name": "LayoutModel",
            "justify_items": null,
            "grid_row": null,
            "max_height": null,
            "align_content": null,
            "visibility": null,
            "align_self": null,
            "height": null,
            "min_height": null,
            "padding": null,
            "grid_auto_rows": null,
            "grid_gap": null,
            "max_width": null,
            "order": null,
            "_view_module_version": "1.2.0",
            "grid_template_areas": null,
            "object_position": null,
            "object_fit": null,
            "grid_auto_columns": null,
            "margin": null,
            "display": null,
            "left": null
          }
        },
        "e70c40041ee841d993e142d5045a8fcc": {
          "model_module": "@jupyter-widgets/controls",
          "model_name": "HBoxModel",
          "model_module_version": "1.5.0",
          "state": {
            "_view_name": "HBoxView",
            "_dom_classes": [],
            "_model_name": "HBoxModel",
            "_view_module": "@jupyter-widgets/controls",
            "_model_module_version": "1.5.0",
            "_view_count": null,
            "_view_module_version": "1.5.0",
            "box_style": "",
            "layout": "IPY_MODEL_4e403ca782bf4a5a82a6eddb2a6ce866",
            "_model_module": "@jupyter-widgets/controls",
            "children": [
              "IPY_MODEL_2fd0fca97e664bbbb1790469a21d1e36",
              "IPY_MODEL_a1200073a38b471b843d6c1fbf253b4e",
              "IPY_MODEL_c7b316e5866a44d590a8f67e779aa3fb"
            ]
          }
        },
        "4e403ca782bf4a5a82a6eddb2a6ce866": {
          "model_module": "@jupyter-widgets/base",
          "model_name": "LayoutModel",
          "model_module_version": "1.2.0",
          "state": {
            "_view_name": "LayoutView",
            "grid_template_rows": null,
            "right": null,
            "justify_content": null,
            "_view_module": "@jupyter-widgets/base",
            "overflow": null,
            "_model_module_version": "1.2.0",
            "_view_count": null,
            "flex_flow": null,
            "width": null,
            "min_width": null,
            "border": null,
            "align_items": null,
            "bottom": null,
            "_model_module": "@jupyter-widgets/base",
            "top": null,
            "grid_column": null,
            "overflow_y": null,
            "overflow_x": null,
            "grid_auto_flow": null,
            "grid_area": null,
            "grid_template_columns": null,
            "flex": null,
            "_model_name": "LayoutModel",
            "justify_items": null,
            "grid_row": null,
            "max_height": null,
            "align_content": null,
            "visibility": null,
            "align_self": null,
            "height": null,
            "min_height": null,
            "padding": null,
            "grid_auto_rows": null,
            "grid_gap": null,
            "max_width": null,
            "order": null,
            "_view_module_version": "1.2.0",
            "grid_template_areas": null,
            "object_position": null,
            "object_fit": null,
            "grid_auto_columns": null,
            "margin": null,
            "display": null,
            "left": null
          }
        },
        "2fd0fca97e664bbbb1790469a21d1e36": {
          "model_module": "@jupyter-widgets/controls",
          "model_name": "HTMLModel",
          "model_module_version": "1.5.0",
          "state": {
            "_view_name": "HTMLView",
            "style": "IPY_MODEL_68a867671ce44c63b131fe0056985644",
            "_dom_classes": [],
            "description": "",
            "_model_name": "HTMLModel",
            "placeholder": "​",
            "_view_module": "@jupyter-widgets/controls",
            "_model_module_version": "1.5.0",
            "value": "100%",
            "_view_count": null,
            "_view_module_version": "1.5.0",
            "description_tooltip": null,
            "_model_module": "@jupyter-widgets/controls",
            "layout": "IPY_MODEL_f4c59b46b08b4b458c6278314d39c2bf"
          }
        },
        "a1200073a38b471b843d6c1fbf253b4e": {
          "model_module": "@jupyter-widgets/controls",
          "model_name": "FloatProgressModel",
          "model_module_version": "1.5.0",
          "state": {
            "_view_name": "ProgressView",
            "style": "IPY_MODEL_8ef8854406d24933bdf4816407627bc4",
            "_dom_classes": [],
            "description": "",
            "_model_name": "FloatProgressModel",
            "bar_style": "success",
            "max": 402,
            "_view_module": "@jupyter-widgets/controls",
            "_model_module_version": "1.5.0",
            "value": 402,
            "_view_count": null,
            "_view_module_version": "1.5.0",
            "orientation": "horizontal",
            "min": 0,
            "description_tooltip": null,
            "_model_module": "@jupyter-widgets/controls",
            "layout": "IPY_MODEL_83b4d9c33ea148bd948bec0dbf482029"
          }
        },
        "c7b316e5866a44d590a8f67e779aa3fb": {
          "model_module": "@jupyter-widgets/controls",
          "model_name": "HTMLModel",
          "model_module_version": "1.5.0",
          "state": {
            "_view_name": "HTMLView",
            "style": "IPY_MODEL_ea10369db2e34c038c711ffa433708ac",
            "_dom_classes": [],
            "description": "",
            "_model_name": "HTMLModel",
            "placeholder": "​",
            "_view_module": "@jupyter-widgets/controls",
            "_model_module_version": "1.5.0",
            "value": " 402/402 [00:05&lt;00:00, 81.90it/s]",
            "_view_count": null,
            "_view_module_version": "1.5.0",
            "description_tooltip": null,
            "_model_module": "@jupyter-widgets/controls",
            "layout": "IPY_MODEL_5d73cb536f6249a5bf6ef537ba79bbe0"
          }
        },
        "68a867671ce44c63b131fe0056985644": {
          "model_module": "@jupyter-widgets/controls",
          "model_name": "DescriptionStyleModel",
          "model_module_version": "1.5.0",
          "state": {
            "_view_name": "StyleView",
            "_model_name": "DescriptionStyleModel",
            "description_width": "",
            "_view_module": "@jupyter-widgets/base",
            "_model_module_version": "1.5.0",
            "_view_count": null,
            "_view_module_version": "1.2.0",
            "_model_module": "@jupyter-widgets/controls"
          }
        },
        "f4c59b46b08b4b458c6278314d39c2bf": {
          "model_module": "@jupyter-widgets/base",
          "model_name": "LayoutModel",
          "model_module_version": "1.2.0",
          "state": {
            "_view_name": "LayoutView",
            "grid_template_rows": null,
            "right": null,
            "justify_content": null,
            "_view_module": "@jupyter-widgets/base",
            "overflow": null,
            "_model_module_version": "1.2.0",
            "_view_count": null,
            "flex_flow": null,
            "width": null,
            "min_width": null,
            "border": null,
            "align_items": null,
            "bottom": null,
            "_model_module": "@jupyter-widgets/base",
            "top": null,
            "grid_column": null,
            "overflow_y": null,
            "overflow_x": null,
            "grid_auto_flow": null,
            "grid_area": null,
            "grid_template_columns": null,
            "flex": null,
            "_model_name": "LayoutModel",
            "justify_items": null,
            "grid_row": null,
            "max_height": null,
            "align_content": null,
            "visibility": null,
            "align_self": null,
            "height": null,
            "min_height": null,
            "padding": null,
            "grid_auto_rows": null,
            "grid_gap": null,
            "max_width": null,
            "order": null,
            "_view_module_version": "1.2.0",
            "grid_template_areas": null,
            "object_position": null,
            "object_fit": null,
            "grid_auto_columns": null,
            "margin": null,
            "display": null,
            "left": null
          }
        },
        "8ef8854406d24933bdf4816407627bc4": {
          "model_module": "@jupyter-widgets/controls",
          "model_name": "ProgressStyleModel",
          "model_module_version": "1.5.0",
          "state": {
            "_view_name": "StyleView",
            "_model_name": "ProgressStyleModel",
            "description_width": "",
            "_view_module": "@jupyter-widgets/base",
            "_model_module_version": "1.5.0",
            "_view_count": null,
            "_view_module_version": "1.2.0",
            "bar_color": null,
            "_model_module": "@jupyter-widgets/controls"
          }
        },
        "83b4d9c33ea148bd948bec0dbf482029": {
          "model_module": "@jupyter-widgets/base",
          "model_name": "LayoutModel",
          "model_module_version": "1.2.0",
          "state": {
            "_view_name": "LayoutView",
            "grid_template_rows": null,
            "right": null,
            "justify_content": null,
            "_view_module": "@jupyter-widgets/base",
            "overflow": null,
            "_model_module_version": "1.2.0",
            "_view_count": null,
            "flex_flow": null,
            "width": null,
            "min_width": null,
            "border": null,
            "align_items": null,
            "bottom": null,
            "_model_module": "@jupyter-widgets/base",
            "top": null,
            "grid_column": null,
            "overflow_y": null,
            "overflow_x": null,
            "grid_auto_flow": null,
            "grid_area": null,
            "grid_template_columns": null,
            "flex": null,
            "_model_name": "LayoutModel",
            "justify_items": null,
            "grid_row": null,
            "max_height": null,
            "align_content": null,
            "visibility": null,
            "align_self": null,
            "height": null,
            "min_height": null,
            "padding": null,
            "grid_auto_rows": null,
            "grid_gap": null,
            "max_width": null,
            "order": null,
            "_view_module_version": "1.2.0",
            "grid_template_areas": null,
            "object_position": null,
            "object_fit": null,
            "grid_auto_columns": null,
            "margin": null,
            "display": null,
            "left": null
          }
        },
        "ea10369db2e34c038c711ffa433708ac": {
          "model_module": "@jupyter-widgets/controls",
          "model_name": "DescriptionStyleModel",
          "model_module_version": "1.5.0",
          "state": {
            "_view_name": "StyleView",
            "_model_name": "DescriptionStyleModel",
            "description_width": "",
            "_view_module": "@jupyter-widgets/base",
            "_model_module_version": "1.5.0",
            "_view_count": null,
            "_view_module_version": "1.2.0",
            "_model_module": "@jupyter-widgets/controls"
          }
        },
        "5d73cb536f6249a5bf6ef537ba79bbe0": {
          "model_module": "@jupyter-widgets/base",
          "model_name": "LayoutModel",
          "model_module_version": "1.2.0",
          "state": {
            "_view_name": "LayoutView",
            "grid_template_rows": null,
            "right": null,
            "justify_content": null,
            "_view_module": "@jupyter-widgets/base",
            "overflow": null,
            "_model_module_version": "1.2.0",
            "_view_count": null,
            "flex_flow": null,
            "width": null,
            "min_width": null,
            "border": null,
            "align_items": null,
            "bottom": null,
            "_model_module": "@jupyter-widgets/base",
            "top": null,
            "grid_column": null,
            "overflow_y": null,
            "overflow_x": null,
            "grid_auto_flow": null,
            "grid_area": null,
            "grid_template_columns": null,
            "flex": null,
            "_model_name": "LayoutModel",
            "justify_items": null,
            "grid_row": null,
            "max_height": null,
            "align_content": null,
            "visibility": null,
            "align_self": null,
            "height": null,
            "min_height": null,
            "padding": null,
            "grid_auto_rows": null,
            "grid_gap": null,
            "max_width": null,
            "order": null,
            "_view_module_version": "1.2.0",
            "grid_template_areas": null,
            "object_position": null,
            "object_fit": null,
            "grid_auto_columns": null,
            "margin": null,
            "display": null,
            "left": null
          }
        },
        "c1f93b752f9e4eaeb343193038743cd8": {
          "model_module": "@jupyter-widgets/controls",
          "model_name": "HBoxModel",
          "model_module_version": "1.5.0",
          "state": {
            "_view_name": "HBoxView",
            "_dom_classes": [],
            "_model_name": "HBoxModel",
            "_view_module": "@jupyter-widgets/controls",
            "_model_module_version": "1.5.0",
            "_view_count": null,
            "_view_module_version": "1.5.0",
            "box_style": "",
            "layout": "IPY_MODEL_cdee1cc8f7d44ff69b9b7cc78bc2e502",
            "_model_module": "@jupyter-widgets/controls",
            "children": [
              "IPY_MODEL_3ca8d336d37d4e77992b7326c3203ed8",
              "IPY_MODEL_4f5fc6a1467c49d7ac9268013e5b52f2",
              "IPY_MODEL_e1d2a34beb3b48978a708a43656e5c23"
            ]
          }
        },
        "cdee1cc8f7d44ff69b9b7cc78bc2e502": {
          "model_module": "@jupyter-widgets/base",
          "model_name": "LayoutModel",
          "model_module_version": "1.2.0",
          "state": {
            "_view_name": "LayoutView",
            "grid_template_rows": null,
            "right": null,
            "justify_content": null,
            "_view_module": "@jupyter-widgets/base",
            "overflow": null,
            "_model_module_version": "1.2.0",
            "_view_count": null,
            "flex_flow": null,
            "width": null,
            "min_width": null,
            "border": null,
            "align_items": null,
            "bottom": null,
            "_model_module": "@jupyter-widgets/base",
            "top": null,
            "grid_column": null,
            "overflow_y": null,
            "overflow_x": null,
            "grid_auto_flow": null,
            "grid_area": null,
            "grid_template_columns": null,
            "flex": null,
            "_model_name": "LayoutModel",
            "justify_items": null,
            "grid_row": null,
            "max_height": null,
            "align_content": null,
            "visibility": null,
            "align_self": null,
            "height": null,
            "min_height": null,
            "padding": null,
            "grid_auto_rows": null,
            "grid_gap": null,
            "max_width": null,
            "order": null,
            "_view_module_version": "1.2.0",
            "grid_template_areas": null,
            "object_position": null,
            "object_fit": null,
            "grid_auto_columns": null,
            "margin": null,
            "display": null,
            "left": null
          }
        },
        "3ca8d336d37d4e77992b7326c3203ed8": {
          "model_module": "@jupyter-widgets/controls",
          "model_name": "HTMLModel",
          "model_module_version": "1.5.0",
          "state": {
            "_view_name": "HTMLView",
            "style": "IPY_MODEL_4f0d9c21e3b94d808be6bb573a90d87e",
            "_dom_classes": [],
            "description": "",
            "_model_name": "HTMLModel",
            "placeholder": "​",
            "_view_module": "@jupyter-widgets/controls",
            "_model_module_version": "1.5.0",
            "value": "100%",
            "_view_count": null,
            "_view_module_version": "1.5.0",
            "description_tooltip": null,
            "_model_module": "@jupyter-widgets/controls",
            "layout": "IPY_MODEL_cb6fe8af5db14666a033420a6080fa02"
          }
        },
        "4f5fc6a1467c49d7ac9268013e5b52f2": {
          "model_module": "@jupyter-widgets/controls",
          "model_name": "FloatProgressModel",
          "model_module_version": "1.5.0",
          "state": {
            "_view_name": "ProgressView",
            "style": "IPY_MODEL_e3e13b85d51f463abb884d03fc21a993",
            "_dom_classes": [],
            "description": "",
            "_model_name": "FloatProgressModel",
            "bar_style": "success",
            "max": 402,
            "_view_module": "@jupyter-widgets/controls",
            "_model_module_version": "1.5.0",
            "value": 402,
            "_view_count": null,
            "_view_module_version": "1.5.0",
            "orientation": "horizontal",
            "min": 0,
            "description_tooltip": null,
            "_model_module": "@jupyter-widgets/controls",
            "layout": "IPY_MODEL_3b6a58f8b6724814902977e1de2bf3ff"
          }
        },
        "e1d2a34beb3b48978a708a43656e5c23": {
          "model_module": "@jupyter-widgets/controls",
          "model_name": "HTMLModel",
          "model_module_version": "1.5.0",
          "state": {
            "_view_name": "HTMLView",
            "style": "IPY_MODEL_465429bc507c4486b272180b100d1443",
            "_dom_classes": [],
            "description": "",
            "_model_name": "HTMLModel",
            "placeholder": "​",
            "_view_module": "@jupyter-widgets/controls",
            "_model_module_version": "1.5.0",
            "value": " 402/402 [00:05&lt;00:00, 74.62it/s]",
            "_view_count": null,
            "_view_module_version": "1.5.0",
            "description_tooltip": null,
            "_model_module": "@jupyter-widgets/controls",
            "layout": "IPY_MODEL_4f7cfa29314d44ee9cc004d2ac1c9dba"
          }
        },
        "4f0d9c21e3b94d808be6bb573a90d87e": {
          "model_module": "@jupyter-widgets/controls",
          "model_name": "DescriptionStyleModel",
          "model_module_version": "1.5.0",
          "state": {
            "_view_name": "StyleView",
            "_model_name": "DescriptionStyleModel",
            "description_width": "",
            "_view_module": "@jupyter-widgets/base",
            "_model_module_version": "1.5.0",
            "_view_count": null,
            "_view_module_version": "1.2.0",
            "_model_module": "@jupyter-widgets/controls"
          }
        },
        "cb6fe8af5db14666a033420a6080fa02": {
          "model_module": "@jupyter-widgets/base",
          "model_name": "LayoutModel",
          "model_module_version": "1.2.0",
          "state": {
            "_view_name": "LayoutView",
            "grid_template_rows": null,
            "right": null,
            "justify_content": null,
            "_view_module": "@jupyter-widgets/base",
            "overflow": null,
            "_model_module_version": "1.2.0",
            "_view_count": null,
            "flex_flow": null,
            "width": null,
            "min_width": null,
            "border": null,
            "align_items": null,
            "bottom": null,
            "_model_module": "@jupyter-widgets/base",
            "top": null,
            "grid_column": null,
            "overflow_y": null,
            "overflow_x": null,
            "grid_auto_flow": null,
            "grid_area": null,
            "grid_template_columns": null,
            "flex": null,
            "_model_name": "LayoutModel",
            "justify_items": null,
            "grid_row": null,
            "max_height": null,
            "align_content": null,
            "visibility": null,
            "align_self": null,
            "height": null,
            "min_height": null,
            "padding": null,
            "grid_auto_rows": null,
            "grid_gap": null,
            "max_width": null,
            "order": null,
            "_view_module_version": "1.2.0",
            "grid_template_areas": null,
            "object_position": null,
            "object_fit": null,
            "grid_auto_columns": null,
            "margin": null,
            "display": null,
            "left": null
          }
        },
        "e3e13b85d51f463abb884d03fc21a993": {
          "model_module": "@jupyter-widgets/controls",
          "model_name": "ProgressStyleModel",
          "model_module_version": "1.5.0",
          "state": {
            "_view_name": "StyleView",
            "_model_name": "ProgressStyleModel",
            "description_width": "",
            "_view_module": "@jupyter-widgets/base",
            "_model_module_version": "1.5.0",
            "_view_count": null,
            "_view_module_version": "1.2.0",
            "bar_color": null,
            "_model_module": "@jupyter-widgets/controls"
          }
        },
        "3b6a58f8b6724814902977e1de2bf3ff": {
          "model_module": "@jupyter-widgets/base",
          "model_name": "LayoutModel",
          "model_module_version": "1.2.0",
          "state": {
            "_view_name": "LayoutView",
            "grid_template_rows": null,
            "right": null,
            "justify_content": null,
            "_view_module": "@jupyter-widgets/base",
            "overflow": null,
            "_model_module_version": "1.2.0",
            "_view_count": null,
            "flex_flow": null,
            "width": null,
            "min_width": null,
            "border": null,
            "align_items": null,
            "bottom": null,
            "_model_module": "@jupyter-widgets/base",
            "top": null,
            "grid_column": null,
            "overflow_y": null,
            "overflow_x": null,
            "grid_auto_flow": null,
            "grid_area": null,
            "grid_template_columns": null,
            "flex": null,
            "_model_name": "LayoutModel",
            "justify_items": null,
            "grid_row": null,
            "max_height": null,
            "align_content": null,
            "visibility": null,
            "align_self": null,
            "height": null,
            "min_height": null,
            "padding": null,
            "grid_auto_rows": null,
            "grid_gap": null,
            "max_width": null,
            "order": null,
            "_view_module_version": "1.2.0",
            "grid_template_areas": null,
            "object_position": null,
            "object_fit": null,
            "grid_auto_columns": null,
            "margin": null,
            "display": null,
            "left": null
          }
        },
        "465429bc507c4486b272180b100d1443": {
          "model_module": "@jupyter-widgets/controls",
          "model_name": "DescriptionStyleModel",
          "model_module_version": "1.5.0",
          "state": {
            "_view_name": "StyleView",
            "_model_name": "DescriptionStyleModel",
            "description_width": "",
            "_view_module": "@jupyter-widgets/base",
            "_model_module_version": "1.5.0",
            "_view_count": null,
            "_view_module_version": "1.2.0",
            "_model_module": "@jupyter-widgets/controls"
          }
        },
        "4f7cfa29314d44ee9cc004d2ac1c9dba": {
          "model_module": "@jupyter-widgets/base",
          "model_name": "LayoutModel",
          "model_module_version": "1.2.0",
          "state": {
            "_view_name": "LayoutView",
            "grid_template_rows": null,
            "right": null,
            "justify_content": null,
            "_view_module": "@jupyter-widgets/base",
            "overflow": null,
            "_model_module_version": "1.2.0",
            "_view_count": null,
            "flex_flow": null,
            "width": null,
            "min_width": null,
            "border": null,
            "align_items": null,
            "bottom": null,
            "_model_module": "@jupyter-widgets/base",
            "top": null,
            "grid_column": null,
            "overflow_y": null,
            "overflow_x": null,
            "grid_auto_flow": null,
            "grid_area": null,
            "grid_template_columns": null,
            "flex": null,
            "_model_name": "LayoutModel",
            "justify_items": null,
            "grid_row": null,
            "max_height": null,
            "align_content": null,
            "visibility": null,
            "align_self": null,
            "height": null,
            "min_height": null,
            "padding": null,
            "grid_auto_rows": null,
            "grid_gap": null,
            "max_width": null,
            "order": null,
            "_view_module_version": "1.2.0",
            "grid_template_areas": null,
            "object_position": null,
            "object_fit": null,
            "grid_auto_columns": null,
            "margin": null,
            "display": null,
            "left": null
          }
        },
        "4c8c5eb233824038816334a95c3ea7e3": {
          "model_module": "@jupyter-widgets/controls",
          "model_name": "HBoxModel",
          "model_module_version": "1.5.0",
          "state": {
            "_view_name": "HBoxView",
            "_dom_classes": [],
            "_model_name": "HBoxModel",
            "_view_module": "@jupyter-widgets/controls",
            "_model_module_version": "1.5.0",
            "_view_count": null,
            "_view_module_version": "1.5.0",
            "box_style": "",
            "layout": "IPY_MODEL_5104ad019e904a328ce067de4db7f19f",
            "_model_module": "@jupyter-widgets/controls",
            "children": [
              "IPY_MODEL_24e10ab63be2474fb0bd32aa73949aaf",
              "IPY_MODEL_54fedc3bb4744cf0a938215808b72bea",
              "IPY_MODEL_153b9f58bdf04170835df28f07c06190"
            ]
          }
        },
        "5104ad019e904a328ce067de4db7f19f": {
          "model_module": "@jupyter-widgets/base",
          "model_name": "LayoutModel",
          "model_module_version": "1.2.0",
          "state": {
            "_view_name": "LayoutView",
            "grid_template_rows": null,
            "right": null,
            "justify_content": null,
            "_view_module": "@jupyter-widgets/base",
            "overflow": null,
            "_model_module_version": "1.2.0",
            "_view_count": null,
            "flex_flow": null,
            "width": null,
            "min_width": null,
            "border": null,
            "align_items": null,
            "bottom": null,
            "_model_module": "@jupyter-widgets/base",
            "top": null,
            "grid_column": null,
            "overflow_y": null,
            "overflow_x": null,
            "grid_auto_flow": null,
            "grid_area": null,
            "grid_template_columns": null,
            "flex": null,
            "_model_name": "LayoutModel",
            "justify_items": null,
            "grid_row": null,
            "max_height": null,
            "align_content": null,
            "visibility": null,
            "align_self": null,
            "height": null,
            "min_height": null,
            "padding": null,
            "grid_auto_rows": null,
            "grid_gap": null,
            "max_width": null,
            "order": null,
            "_view_module_version": "1.2.0",
            "grid_template_areas": null,
            "object_position": null,
            "object_fit": null,
            "grid_auto_columns": null,
            "margin": null,
            "display": null,
            "left": null
          }
        },
        "24e10ab63be2474fb0bd32aa73949aaf": {
          "model_module": "@jupyter-widgets/controls",
          "model_name": "HTMLModel",
          "model_module_version": "1.5.0",
          "state": {
            "_view_name": "HTMLView",
            "style": "IPY_MODEL_b461876f51594da88ac96416f2a353ae",
            "_dom_classes": [],
            "description": "",
            "_model_name": "HTMLModel",
            "placeholder": "​",
            "_view_module": "@jupyter-widgets/controls",
            "_model_module_version": "1.5.0",
            "value": "100%",
            "_view_count": null,
            "_view_module_version": "1.5.0",
            "description_tooltip": null,
            "_model_module": "@jupyter-widgets/controls",
            "layout": "IPY_MODEL_f4ebc083979e44a8aa54f0c22dc8e105"
          }
        },
        "54fedc3bb4744cf0a938215808b72bea": {
          "model_module": "@jupyter-widgets/controls",
          "model_name": "FloatProgressModel",
          "model_module_version": "1.5.0",
          "state": {
            "_view_name": "ProgressView",
            "style": "IPY_MODEL_c7c29347a0524ef4a302ac7657e44a30",
            "_dom_classes": [],
            "description": "",
            "_model_name": "FloatProgressModel",
            "bar_style": "success",
            "max": 402,
            "_view_module": "@jupyter-widgets/controls",
            "_model_module_version": "1.5.0",
            "value": 402,
            "_view_count": null,
            "_view_module_version": "1.5.0",
            "orientation": "horizontal",
            "min": 0,
            "description_tooltip": null,
            "_model_module": "@jupyter-widgets/controls",
            "layout": "IPY_MODEL_2017ab5452f74d64acab8c2583a578c9"
          }
        },
        "153b9f58bdf04170835df28f07c06190": {
          "model_module": "@jupyter-widgets/controls",
          "model_name": "HTMLModel",
          "model_module_version": "1.5.0",
          "state": {
            "_view_name": "HTMLView",
            "style": "IPY_MODEL_456782e157074bcb97880a0bb713b37d",
            "_dom_classes": [],
            "description": "",
            "_model_name": "HTMLModel",
            "placeholder": "​",
            "_view_module": "@jupyter-widgets/controls",
            "_model_module_version": "1.5.0",
            "value": " 402/402 [00:05&lt;00:00, 75.37it/s]",
            "_view_count": null,
            "_view_module_version": "1.5.0",
            "description_tooltip": null,
            "_model_module": "@jupyter-widgets/controls",
            "layout": "IPY_MODEL_bd41788856b344db823348701dd8ca3b"
          }
        },
        "b461876f51594da88ac96416f2a353ae": {
          "model_module": "@jupyter-widgets/controls",
          "model_name": "DescriptionStyleModel",
          "model_module_version": "1.5.0",
          "state": {
            "_view_name": "StyleView",
            "_model_name": "DescriptionStyleModel",
            "description_width": "",
            "_view_module": "@jupyter-widgets/base",
            "_model_module_version": "1.5.0",
            "_view_count": null,
            "_view_module_version": "1.2.0",
            "_model_module": "@jupyter-widgets/controls"
          }
        },
        "f4ebc083979e44a8aa54f0c22dc8e105": {
          "model_module": "@jupyter-widgets/base",
          "model_name": "LayoutModel",
          "model_module_version": "1.2.0",
          "state": {
            "_view_name": "LayoutView",
            "grid_template_rows": null,
            "right": null,
            "justify_content": null,
            "_view_module": "@jupyter-widgets/base",
            "overflow": null,
            "_model_module_version": "1.2.0",
            "_view_count": null,
            "flex_flow": null,
            "width": null,
            "min_width": null,
            "border": null,
            "align_items": null,
            "bottom": null,
            "_model_module": "@jupyter-widgets/base",
            "top": null,
            "grid_column": null,
            "overflow_y": null,
            "overflow_x": null,
            "grid_auto_flow": null,
            "grid_area": null,
            "grid_template_columns": null,
            "flex": null,
            "_model_name": "LayoutModel",
            "justify_items": null,
            "grid_row": null,
            "max_height": null,
            "align_content": null,
            "visibility": null,
            "align_self": null,
            "height": null,
            "min_height": null,
            "padding": null,
            "grid_auto_rows": null,
            "grid_gap": null,
            "max_width": null,
            "order": null,
            "_view_module_version": "1.2.0",
            "grid_template_areas": null,
            "object_position": null,
            "object_fit": null,
            "grid_auto_columns": null,
            "margin": null,
            "display": null,
            "left": null
          }
        },
        "c7c29347a0524ef4a302ac7657e44a30": {
          "model_module": "@jupyter-widgets/controls",
          "model_name": "ProgressStyleModel",
          "model_module_version": "1.5.0",
          "state": {
            "_view_name": "StyleView",
            "_model_name": "ProgressStyleModel",
            "description_width": "",
            "_view_module": "@jupyter-widgets/base",
            "_model_module_version": "1.5.0",
            "_view_count": null,
            "_view_module_version": "1.2.0",
            "bar_color": null,
            "_model_module": "@jupyter-widgets/controls"
          }
        },
        "2017ab5452f74d64acab8c2583a578c9": {
          "model_module": "@jupyter-widgets/base",
          "model_name": "LayoutModel",
          "model_module_version": "1.2.0",
          "state": {
            "_view_name": "LayoutView",
            "grid_template_rows": null,
            "right": null,
            "justify_content": null,
            "_view_module": "@jupyter-widgets/base",
            "overflow": null,
            "_model_module_version": "1.2.0",
            "_view_count": null,
            "flex_flow": null,
            "width": null,
            "min_width": null,
            "border": null,
            "align_items": null,
            "bottom": null,
            "_model_module": "@jupyter-widgets/base",
            "top": null,
            "grid_column": null,
            "overflow_y": null,
            "overflow_x": null,
            "grid_auto_flow": null,
            "grid_area": null,
            "grid_template_columns": null,
            "flex": null,
            "_model_name": "LayoutModel",
            "justify_items": null,
            "grid_row": null,
            "max_height": null,
            "align_content": null,
            "visibility": null,
            "align_self": null,
            "height": null,
            "min_height": null,
            "padding": null,
            "grid_auto_rows": null,
            "grid_gap": null,
            "max_width": null,
            "order": null,
            "_view_module_version": "1.2.0",
            "grid_template_areas": null,
            "object_position": null,
            "object_fit": null,
            "grid_auto_columns": null,
            "margin": null,
            "display": null,
            "left": null
          }
        },
        "456782e157074bcb97880a0bb713b37d": {
          "model_module": "@jupyter-widgets/controls",
          "model_name": "DescriptionStyleModel",
          "model_module_version": "1.5.0",
          "state": {
            "_view_name": "StyleView",
            "_model_name": "DescriptionStyleModel",
            "description_width": "",
            "_view_module": "@jupyter-widgets/base",
            "_model_module_version": "1.5.0",
            "_view_count": null,
            "_view_module_version": "1.2.0",
            "_model_module": "@jupyter-widgets/controls"
          }
        },
        "bd41788856b344db823348701dd8ca3b": {
          "model_module": "@jupyter-widgets/base",
          "model_name": "LayoutModel",
          "model_module_version": "1.2.0",
          "state": {
            "_view_name": "LayoutView",
            "grid_template_rows": null,
            "right": null,
            "justify_content": null,
            "_view_module": "@jupyter-widgets/base",
            "overflow": null,
            "_model_module_version": "1.2.0",
            "_view_count": null,
            "flex_flow": null,
            "width": null,
            "min_width": null,
            "border": null,
            "align_items": null,
            "bottom": null,
            "_model_module": "@jupyter-widgets/base",
            "top": null,
            "grid_column": null,
            "overflow_y": null,
            "overflow_x": null,
            "grid_auto_flow": null,
            "grid_area": null,
            "grid_template_columns": null,
            "flex": null,
            "_model_name": "LayoutModel",
            "justify_items": null,
            "grid_row": null,
            "max_height": null,
            "align_content": null,
            "visibility": null,
            "align_self": null,
            "height": null,
            "min_height": null,
            "padding": null,
            "grid_auto_rows": null,
            "grid_gap": null,
            "max_width": null,
            "order": null,
            "_view_module_version": "1.2.0",
            "grid_template_areas": null,
            "object_position": null,
            "object_fit": null,
            "grid_auto_columns": null,
            "margin": null,
            "display": null,
            "left": null
          }
        },
        "73f43cdc029d453dbb98a7beb04dbec7": {
          "model_module": "@jupyter-widgets/controls",
          "model_name": "HBoxModel",
          "model_module_version": "1.5.0",
          "state": {
            "_view_name": "HBoxView",
            "_dom_classes": [],
            "_model_name": "HBoxModel",
            "_view_module": "@jupyter-widgets/controls",
            "_model_module_version": "1.5.0",
            "_view_count": null,
            "_view_module_version": "1.5.0",
            "box_style": "",
            "layout": "IPY_MODEL_c484379be1144736b28608735f216c00",
            "_model_module": "@jupyter-widgets/controls",
            "children": [
              "IPY_MODEL_d4473e9af7324fdb9d8d153f1e23050c",
              "IPY_MODEL_6239395fe7a041ba8b8cc69d2afabd02",
              "IPY_MODEL_cc77ec77ab4d48028a03d250ed1ee594"
            ]
          }
        },
        "c484379be1144736b28608735f216c00": {
          "model_module": "@jupyter-widgets/base",
          "model_name": "LayoutModel",
          "model_module_version": "1.2.0",
          "state": {
            "_view_name": "LayoutView",
            "grid_template_rows": null,
            "right": null,
            "justify_content": null,
            "_view_module": "@jupyter-widgets/base",
            "overflow": null,
            "_model_module_version": "1.2.0",
            "_view_count": null,
            "flex_flow": null,
            "width": null,
            "min_width": null,
            "border": null,
            "align_items": null,
            "bottom": null,
            "_model_module": "@jupyter-widgets/base",
            "top": null,
            "grid_column": null,
            "overflow_y": null,
            "overflow_x": null,
            "grid_auto_flow": null,
            "grid_area": null,
            "grid_template_columns": null,
            "flex": null,
            "_model_name": "LayoutModel",
            "justify_items": null,
            "grid_row": null,
            "max_height": null,
            "align_content": null,
            "visibility": null,
            "align_self": null,
            "height": null,
            "min_height": null,
            "padding": null,
            "grid_auto_rows": null,
            "grid_gap": null,
            "max_width": null,
            "order": null,
            "_view_module_version": "1.2.0",
            "grid_template_areas": null,
            "object_position": null,
            "object_fit": null,
            "grid_auto_columns": null,
            "margin": null,
            "display": null,
            "left": null
          }
        },
        "d4473e9af7324fdb9d8d153f1e23050c": {
          "model_module": "@jupyter-widgets/controls",
          "model_name": "HTMLModel",
          "model_module_version": "1.5.0",
          "state": {
            "_view_name": "HTMLView",
            "style": "IPY_MODEL_f5e131ab34de45c6b4fc44ed2622fb37",
            "_dom_classes": [],
            "description": "",
            "_model_name": "HTMLModel",
            "placeholder": "​",
            "_view_module": "@jupyter-widgets/controls",
            "_model_module_version": "1.5.0",
            "value": "100%",
            "_view_count": null,
            "_view_module_version": "1.5.0",
            "description_tooltip": null,
            "_model_module": "@jupyter-widgets/controls",
            "layout": "IPY_MODEL_785262c741e04af8a3e679aa573e7a64"
          }
        },
        "6239395fe7a041ba8b8cc69d2afabd02": {
          "model_module": "@jupyter-widgets/controls",
          "model_name": "FloatProgressModel",
          "model_module_version": "1.5.0",
          "state": {
            "_view_name": "ProgressView",
            "style": "IPY_MODEL_6fcff6a9304540a498455831be37b3a3",
            "_dom_classes": [],
            "description": "",
            "_model_name": "FloatProgressModel",
            "bar_style": "success",
            "max": 402,
            "_view_module": "@jupyter-widgets/controls",
            "_model_module_version": "1.5.0",
            "value": 402,
            "_view_count": null,
            "_view_module_version": "1.5.0",
            "orientation": "horizontal",
            "min": 0,
            "description_tooltip": null,
            "_model_module": "@jupyter-widgets/controls",
            "layout": "IPY_MODEL_6bcf6679a1584b439a33667c8739e975"
          }
        },
        "cc77ec77ab4d48028a03d250ed1ee594": {
          "model_module": "@jupyter-widgets/controls",
          "model_name": "HTMLModel",
          "model_module_version": "1.5.0",
          "state": {
            "_view_name": "HTMLView",
            "style": "IPY_MODEL_fac3ed60a83b4050ab6431e0b5c66cfd",
            "_dom_classes": [],
            "description": "",
            "_model_name": "HTMLModel",
            "placeholder": "​",
            "_view_module": "@jupyter-widgets/controls",
            "_model_module_version": "1.5.0",
            "value": " 402/402 [00:05&lt;00:00, 70.57it/s]",
            "_view_count": null,
            "_view_module_version": "1.5.0",
            "description_tooltip": null,
            "_model_module": "@jupyter-widgets/controls",
            "layout": "IPY_MODEL_ca9c5e710be548878395625209beedc3"
          }
        },
        "f5e131ab34de45c6b4fc44ed2622fb37": {
          "model_module": "@jupyter-widgets/controls",
          "model_name": "DescriptionStyleModel",
          "model_module_version": "1.5.0",
          "state": {
            "_view_name": "StyleView",
            "_model_name": "DescriptionStyleModel",
            "description_width": "",
            "_view_module": "@jupyter-widgets/base",
            "_model_module_version": "1.5.0",
            "_view_count": null,
            "_view_module_version": "1.2.0",
            "_model_module": "@jupyter-widgets/controls"
          }
        },
        "785262c741e04af8a3e679aa573e7a64": {
          "model_module": "@jupyter-widgets/base",
          "model_name": "LayoutModel",
          "model_module_version": "1.2.0",
          "state": {
            "_view_name": "LayoutView",
            "grid_template_rows": null,
            "right": null,
            "justify_content": null,
            "_view_module": "@jupyter-widgets/base",
            "overflow": null,
            "_model_module_version": "1.2.0",
            "_view_count": null,
            "flex_flow": null,
            "width": null,
            "min_width": null,
            "border": null,
            "align_items": null,
            "bottom": null,
            "_model_module": "@jupyter-widgets/base",
            "top": null,
            "grid_column": null,
            "overflow_y": null,
            "overflow_x": null,
            "grid_auto_flow": null,
            "grid_area": null,
            "grid_template_columns": null,
            "flex": null,
            "_model_name": "LayoutModel",
            "justify_items": null,
            "grid_row": null,
            "max_height": null,
            "align_content": null,
            "visibility": null,
            "align_self": null,
            "height": null,
            "min_height": null,
            "padding": null,
            "grid_auto_rows": null,
            "grid_gap": null,
            "max_width": null,
            "order": null,
            "_view_module_version": "1.2.0",
            "grid_template_areas": null,
            "object_position": null,
            "object_fit": null,
            "grid_auto_columns": null,
            "margin": null,
            "display": null,
            "left": null
          }
        },
        "6fcff6a9304540a498455831be37b3a3": {
          "model_module": "@jupyter-widgets/controls",
          "model_name": "ProgressStyleModel",
          "model_module_version": "1.5.0",
          "state": {
            "_view_name": "StyleView",
            "_model_name": "ProgressStyleModel",
            "description_width": "",
            "_view_module": "@jupyter-widgets/base",
            "_model_module_version": "1.5.0",
            "_view_count": null,
            "_view_module_version": "1.2.0",
            "bar_color": null,
            "_model_module": "@jupyter-widgets/controls"
          }
        },
        "6bcf6679a1584b439a33667c8739e975": {
          "model_module": "@jupyter-widgets/base",
          "model_name": "LayoutModel",
          "model_module_version": "1.2.0",
          "state": {
            "_view_name": "LayoutView",
            "grid_template_rows": null,
            "right": null,
            "justify_content": null,
            "_view_module": "@jupyter-widgets/base",
            "overflow": null,
            "_model_module_version": "1.2.0",
            "_view_count": null,
            "flex_flow": null,
            "width": null,
            "min_width": null,
            "border": null,
            "align_items": null,
            "bottom": null,
            "_model_module": "@jupyter-widgets/base",
            "top": null,
            "grid_column": null,
            "overflow_y": null,
            "overflow_x": null,
            "grid_auto_flow": null,
            "grid_area": null,
            "grid_template_columns": null,
            "flex": null,
            "_model_name": "LayoutModel",
            "justify_items": null,
            "grid_row": null,
            "max_height": null,
            "align_content": null,
            "visibility": null,
            "align_self": null,
            "height": null,
            "min_height": null,
            "padding": null,
            "grid_auto_rows": null,
            "grid_gap": null,
            "max_width": null,
            "order": null,
            "_view_module_version": "1.2.0",
            "grid_template_areas": null,
            "object_position": null,
            "object_fit": null,
            "grid_auto_columns": null,
            "margin": null,
            "display": null,
            "left": null
          }
        },
        "fac3ed60a83b4050ab6431e0b5c66cfd": {
          "model_module": "@jupyter-widgets/controls",
          "model_name": "DescriptionStyleModel",
          "model_module_version": "1.5.0",
          "state": {
            "_view_name": "StyleView",
            "_model_name": "DescriptionStyleModel",
            "description_width": "",
            "_view_module": "@jupyter-widgets/base",
            "_model_module_version": "1.5.0",
            "_view_count": null,
            "_view_module_version": "1.2.0",
            "_model_module": "@jupyter-widgets/controls"
          }
        },
        "ca9c5e710be548878395625209beedc3": {
          "model_module": "@jupyter-widgets/base",
          "model_name": "LayoutModel",
          "model_module_version": "1.2.0",
          "state": {
            "_view_name": "LayoutView",
            "grid_template_rows": null,
            "right": null,
            "justify_content": null,
            "_view_module": "@jupyter-widgets/base",
            "overflow": null,
            "_model_module_version": "1.2.0",
            "_view_count": null,
            "flex_flow": null,
            "width": null,
            "min_width": null,
            "border": null,
            "align_items": null,
            "bottom": null,
            "_model_module": "@jupyter-widgets/base",
            "top": null,
            "grid_column": null,
            "overflow_y": null,
            "overflow_x": null,
            "grid_auto_flow": null,
            "grid_area": null,
            "grid_template_columns": null,
            "flex": null,
            "_model_name": "LayoutModel",
            "justify_items": null,
            "grid_row": null,
            "max_height": null,
            "align_content": null,
            "visibility": null,
            "align_self": null,
            "height": null,
            "min_height": null,
            "padding": null,
            "grid_auto_rows": null,
            "grid_gap": null,
            "max_width": null,
            "order": null,
            "_view_module_version": "1.2.0",
            "grid_template_areas": null,
            "object_position": null,
            "object_fit": null,
            "grid_auto_columns": null,
            "margin": null,
            "display": null,
            "left": null
          }
        },
        "97b54b0c97434c3495d94c74dff64e01": {
          "model_module": "@jupyter-widgets/controls",
          "model_name": "HBoxModel",
          "model_module_version": "1.5.0",
          "state": {
            "_view_name": "HBoxView",
            "_dom_classes": [],
            "_model_name": "HBoxModel",
            "_view_module": "@jupyter-widgets/controls",
            "_model_module_version": "1.5.0",
            "_view_count": null,
            "_view_module_version": "1.5.0",
            "box_style": "",
            "layout": "IPY_MODEL_ce25353dd70c45fbbd659f5408be424a",
            "_model_module": "@jupyter-widgets/controls",
            "children": [
              "IPY_MODEL_19b7786fac3144219faa5e7dc949e964",
              "IPY_MODEL_7315b5f2497f4defad04e67c51f32c53",
              "IPY_MODEL_312340a42ea74fe7878fa5158be53879"
            ]
          }
        },
        "ce25353dd70c45fbbd659f5408be424a": {
          "model_module": "@jupyter-widgets/base",
          "model_name": "LayoutModel",
          "model_module_version": "1.2.0",
          "state": {
            "_view_name": "LayoutView",
            "grid_template_rows": null,
            "right": null,
            "justify_content": null,
            "_view_module": "@jupyter-widgets/base",
            "overflow": null,
            "_model_module_version": "1.2.0",
            "_view_count": null,
            "flex_flow": null,
            "width": null,
            "min_width": null,
            "border": null,
            "align_items": null,
            "bottom": null,
            "_model_module": "@jupyter-widgets/base",
            "top": null,
            "grid_column": null,
            "overflow_y": null,
            "overflow_x": null,
            "grid_auto_flow": null,
            "grid_area": null,
            "grid_template_columns": null,
            "flex": null,
            "_model_name": "LayoutModel",
            "justify_items": null,
            "grid_row": null,
            "max_height": null,
            "align_content": null,
            "visibility": null,
            "align_self": null,
            "height": null,
            "min_height": null,
            "padding": null,
            "grid_auto_rows": null,
            "grid_gap": null,
            "max_width": null,
            "order": null,
            "_view_module_version": "1.2.0",
            "grid_template_areas": null,
            "object_position": null,
            "object_fit": null,
            "grid_auto_columns": null,
            "margin": null,
            "display": null,
            "left": null
          }
        },
        "19b7786fac3144219faa5e7dc949e964": {
          "model_module": "@jupyter-widgets/controls",
          "model_name": "HTMLModel",
          "model_module_version": "1.5.0",
          "state": {
            "_view_name": "HTMLView",
            "style": "IPY_MODEL_08ac7e335dfe4a2f944227daf4b80623",
            "_dom_classes": [],
            "description": "",
            "_model_name": "HTMLModel",
            "placeholder": "​",
            "_view_module": "@jupyter-widgets/controls",
            "_model_module_version": "1.5.0",
            "value": "100%",
            "_view_count": null,
            "_view_module_version": "1.5.0",
            "description_tooltip": null,
            "_model_module": "@jupyter-widgets/controls",
            "layout": "IPY_MODEL_343dc36dee0942bf90e701492516a277"
          }
        },
        "7315b5f2497f4defad04e67c51f32c53": {
          "model_module": "@jupyter-widgets/controls",
          "model_name": "FloatProgressModel",
          "model_module_version": "1.5.0",
          "state": {
            "_view_name": "ProgressView",
            "style": "IPY_MODEL_17d3865467a74f9988be90174c28213e",
            "_dom_classes": [],
            "description": "",
            "_model_name": "FloatProgressModel",
            "bar_style": "success",
            "max": 402,
            "_view_module": "@jupyter-widgets/controls",
            "_model_module_version": "1.5.0",
            "value": 402,
            "_view_count": null,
            "_view_module_version": "1.5.0",
            "orientation": "horizontal",
            "min": 0,
            "description_tooltip": null,
            "_model_module": "@jupyter-widgets/controls",
            "layout": "IPY_MODEL_14c0896e9061475dbf80c39e7ed4bccb"
          }
        },
        "312340a42ea74fe7878fa5158be53879": {
          "model_module": "@jupyter-widgets/controls",
          "model_name": "HTMLModel",
          "model_module_version": "1.5.0",
          "state": {
            "_view_name": "HTMLView",
            "style": "IPY_MODEL_fe4bd75160284b408ed309d5cec2c340",
            "_dom_classes": [],
            "description": "",
            "_model_name": "HTMLModel",
            "placeholder": "​",
            "_view_module": "@jupyter-widgets/controls",
            "_model_module_version": "1.5.0",
            "value": " 402/402 [00:05&lt;00:00, 75.70it/s]",
            "_view_count": null,
            "_view_module_version": "1.5.0",
            "description_tooltip": null,
            "_model_module": "@jupyter-widgets/controls",
            "layout": "IPY_MODEL_c4a0c0565017433e90ca0564ade0433b"
          }
        },
        "08ac7e335dfe4a2f944227daf4b80623": {
          "model_module": "@jupyter-widgets/controls",
          "model_name": "DescriptionStyleModel",
          "model_module_version": "1.5.0",
          "state": {
            "_view_name": "StyleView",
            "_model_name": "DescriptionStyleModel",
            "description_width": "",
            "_view_module": "@jupyter-widgets/base",
            "_model_module_version": "1.5.0",
            "_view_count": null,
            "_view_module_version": "1.2.0",
            "_model_module": "@jupyter-widgets/controls"
          }
        },
        "343dc36dee0942bf90e701492516a277": {
          "model_module": "@jupyter-widgets/base",
          "model_name": "LayoutModel",
          "model_module_version": "1.2.0",
          "state": {
            "_view_name": "LayoutView",
            "grid_template_rows": null,
            "right": null,
            "justify_content": null,
            "_view_module": "@jupyter-widgets/base",
            "overflow": null,
            "_model_module_version": "1.2.0",
            "_view_count": null,
            "flex_flow": null,
            "width": null,
            "min_width": null,
            "border": null,
            "align_items": null,
            "bottom": null,
            "_model_module": "@jupyter-widgets/base",
            "top": null,
            "grid_column": null,
            "overflow_y": null,
            "overflow_x": null,
            "grid_auto_flow": null,
            "grid_area": null,
            "grid_template_columns": null,
            "flex": null,
            "_model_name": "LayoutModel",
            "justify_items": null,
            "grid_row": null,
            "max_height": null,
            "align_content": null,
            "visibility": null,
            "align_self": null,
            "height": null,
            "min_height": null,
            "padding": null,
            "grid_auto_rows": null,
            "grid_gap": null,
            "max_width": null,
            "order": null,
            "_view_module_version": "1.2.0",
            "grid_template_areas": null,
            "object_position": null,
            "object_fit": null,
            "grid_auto_columns": null,
            "margin": null,
            "display": null,
            "left": null
          }
        },
        "17d3865467a74f9988be90174c28213e": {
          "model_module": "@jupyter-widgets/controls",
          "model_name": "ProgressStyleModel",
          "model_module_version": "1.5.0",
          "state": {
            "_view_name": "StyleView",
            "_model_name": "ProgressStyleModel",
            "description_width": "",
            "_view_module": "@jupyter-widgets/base",
            "_model_module_version": "1.5.0",
            "_view_count": null,
            "_view_module_version": "1.2.0",
            "bar_color": null,
            "_model_module": "@jupyter-widgets/controls"
          }
        },
        "14c0896e9061475dbf80c39e7ed4bccb": {
          "model_module": "@jupyter-widgets/base",
          "model_name": "LayoutModel",
          "model_module_version": "1.2.0",
          "state": {
            "_view_name": "LayoutView",
            "grid_template_rows": null,
            "right": null,
            "justify_content": null,
            "_view_module": "@jupyter-widgets/base",
            "overflow": null,
            "_model_module_version": "1.2.0",
            "_view_count": null,
            "flex_flow": null,
            "width": null,
            "min_width": null,
            "border": null,
            "align_items": null,
            "bottom": null,
            "_model_module": "@jupyter-widgets/base",
            "top": null,
            "grid_column": null,
            "overflow_y": null,
            "overflow_x": null,
            "grid_auto_flow": null,
            "grid_area": null,
            "grid_template_columns": null,
            "flex": null,
            "_model_name": "LayoutModel",
            "justify_items": null,
            "grid_row": null,
            "max_height": null,
            "align_content": null,
            "visibility": null,
            "align_self": null,
            "height": null,
            "min_height": null,
            "padding": null,
            "grid_auto_rows": null,
            "grid_gap": null,
            "max_width": null,
            "order": null,
            "_view_module_version": "1.2.0",
            "grid_template_areas": null,
            "object_position": null,
            "object_fit": null,
            "grid_auto_columns": null,
            "margin": null,
            "display": null,
            "left": null
          }
        },
        "fe4bd75160284b408ed309d5cec2c340": {
          "model_module": "@jupyter-widgets/controls",
          "model_name": "DescriptionStyleModel",
          "model_module_version": "1.5.0",
          "state": {
            "_view_name": "StyleView",
            "_model_name": "DescriptionStyleModel",
            "description_width": "",
            "_view_module": "@jupyter-widgets/base",
            "_model_module_version": "1.5.0",
            "_view_count": null,
            "_view_module_version": "1.2.0",
            "_model_module": "@jupyter-widgets/controls"
          }
        },
        "c4a0c0565017433e90ca0564ade0433b": {
          "model_module": "@jupyter-widgets/base",
          "model_name": "LayoutModel",
          "model_module_version": "1.2.0",
          "state": {
            "_view_name": "LayoutView",
            "grid_template_rows": null,
            "right": null,
            "justify_content": null,
            "_view_module": "@jupyter-widgets/base",
            "overflow": null,
            "_model_module_version": "1.2.0",
            "_view_count": null,
            "flex_flow": null,
            "width": null,
            "min_width": null,
            "border": null,
            "align_items": null,
            "bottom": null,
            "_model_module": "@jupyter-widgets/base",
            "top": null,
            "grid_column": null,
            "overflow_y": null,
            "overflow_x": null,
            "grid_auto_flow": null,
            "grid_area": null,
            "grid_template_columns": null,
            "flex": null,
            "_model_name": "LayoutModel",
            "justify_items": null,
            "grid_row": null,
            "max_height": null,
            "align_content": null,
            "visibility": null,
            "align_self": null,
            "height": null,
            "min_height": null,
            "padding": null,
            "grid_auto_rows": null,
            "grid_gap": null,
            "max_width": null,
            "order": null,
            "_view_module_version": "1.2.0",
            "grid_template_areas": null,
            "object_position": null,
            "object_fit": null,
            "grid_auto_columns": null,
            "margin": null,
            "display": null,
            "left": null
          }
        },
        "71cd6e363ac6456abf1922bfe97940aa": {
          "model_module": "@jupyter-widgets/controls",
          "model_name": "HBoxModel",
          "model_module_version": "1.5.0",
          "state": {
            "_view_name": "HBoxView",
            "_dom_classes": [],
            "_model_name": "HBoxModel",
            "_view_module": "@jupyter-widgets/controls",
            "_model_module_version": "1.5.0",
            "_view_count": null,
            "_view_module_version": "1.5.0",
            "box_style": "",
            "layout": "IPY_MODEL_16960c19825043788a6a2a9acf09186c",
            "_model_module": "@jupyter-widgets/controls",
            "children": [
              "IPY_MODEL_1b68720b6aed4d2cb52cd8754bd25773",
              "IPY_MODEL_d130bc7991e040c3be7efde219f4aedb",
              "IPY_MODEL_15f0c928991c474b8ff2f7356e908222"
            ]
          }
        },
        "16960c19825043788a6a2a9acf09186c": {
          "model_module": "@jupyter-widgets/base",
          "model_name": "LayoutModel",
          "model_module_version": "1.2.0",
          "state": {
            "_view_name": "LayoutView",
            "grid_template_rows": null,
            "right": null,
            "justify_content": null,
            "_view_module": "@jupyter-widgets/base",
            "overflow": null,
            "_model_module_version": "1.2.0",
            "_view_count": null,
            "flex_flow": null,
            "width": null,
            "min_width": null,
            "border": null,
            "align_items": null,
            "bottom": null,
            "_model_module": "@jupyter-widgets/base",
            "top": null,
            "grid_column": null,
            "overflow_y": null,
            "overflow_x": null,
            "grid_auto_flow": null,
            "grid_area": null,
            "grid_template_columns": null,
            "flex": null,
            "_model_name": "LayoutModel",
            "justify_items": null,
            "grid_row": null,
            "max_height": null,
            "align_content": null,
            "visibility": null,
            "align_self": null,
            "height": null,
            "min_height": null,
            "padding": null,
            "grid_auto_rows": null,
            "grid_gap": null,
            "max_width": null,
            "order": null,
            "_view_module_version": "1.2.0",
            "grid_template_areas": null,
            "object_position": null,
            "object_fit": null,
            "grid_auto_columns": null,
            "margin": null,
            "display": null,
            "left": null
          }
        },
        "1b68720b6aed4d2cb52cd8754bd25773": {
          "model_module": "@jupyter-widgets/controls",
          "model_name": "HTMLModel",
          "model_module_version": "1.5.0",
          "state": {
            "_view_name": "HTMLView",
            "style": "IPY_MODEL_3f538d0c024441a18964f656215ce691",
            "_dom_classes": [],
            "description": "",
            "_model_name": "HTMLModel",
            "placeholder": "​",
            "_view_module": "@jupyter-widgets/controls",
            "_model_module_version": "1.5.0",
            "value": " 28%",
            "_view_count": null,
            "_view_module_version": "1.5.0",
            "description_tooltip": null,
            "_model_module": "@jupyter-widgets/controls",
            "layout": "IPY_MODEL_dfa8d773f69b4f06b16e2a17f5fdd3a2"
          }
        },
        "d130bc7991e040c3be7efde219f4aedb": {
          "model_module": "@jupyter-widgets/controls",
          "model_name": "FloatProgressModel",
          "model_module_version": "1.5.0",
          "state": {
            "_view_name": "ProgressView",
            "style": "IPY_MODEL_23da0fe2d1b547a8910f74d6ba8fbe89",
            "_dom_classes": [],
            "description": "",
            "_model_name": "FloatProgressModel",
            "bar_style": "",
            "max": 402,
            "_view_module": "@jupyter-widgets/controls",
            "_model_module_version": "1.5.0",
            "value": 114,
            "_view_count": null,
            "_view_module_version": "1.5.0",
            "orientation": "horizontal",
            "min": 0,
            "description_tooltip": null,
            "_model_module": "@jupyter-widgets/controls",
            "layout": "IPY_MODEL_ba7e1061152a4f13890cc0a08edcf1b5"
          }
        },
        "15f0c928991c474b8ff2f7356e908222": {
          "model_module": "@jupyter-widgets/controls",
          "model_name": "HTMLModel",
          "model_module_version": "1.5.0",
          "state": {
            "_view_name": "HTMLView",
            "style": "IPY_MODEL_3813b416fb7b4fe29c644a5685be14b9",
            "_dom_classes": [],
            "description": "",
            "_model_name": "HTMLModel",
            "placeholder": "​",
            "_view_module": "@jupyter-widgets/controls",
            "_model_module_version": "1.5.0",
            "value": " 114/402 [00:01&lt;00:03, 75.82it/s]",
            "_view_count": null,
            "_view_module_version": "1.5.0",
            "description_tooltip": null,
            "_model_module": "@jupyter-widgets/controls",
            "layout": "IPY_MODEL_41d512793e6a4ed6a45e67680124d115"
          }
        },
        "3f538d0c024441a18964f656215ce691": {
          "model_module": "@jupyter-widgets/controls",
          "model_name": "DescriptionStyleModel",
          "model_module_version": "1.5.0",
          "state": {
            "_view_name": "StyleView",
            "_model_name": "DescriptionStyleModel",
            "description_width": "",
            "_view_module": "@jupyter-widgets/base",
            "_model_module_version": "1.5.0",
            "_view_count": null,
            "_view_module_version": "1.2.0",
            "_model_module": "@jupyter-widgets/controls"
          }
        },
        "dfa8d773f69b4f06b16e2a17f5fdd3a2": {
          "model_module": "@jupyter-widgets/base",
          "model_name": "LayoutModel",
          "model_module_version": "1.2.0",
          "state": {
            "_view_name": "LayoutView",
            "grid_template_rows": null,
            "right": null,
            "justify_content": null,
            "_view_module": "@jupyter-widgets/base",
            "overflow": null,
            "_model_module_version": "1.2.0",
            "_view_count": null,
            "flex_flow": null,
            "width": null,
            "min_width": null,
            "border": null,
            "align_items": null,
            "bottom": null,
            "_model_module": "@jupyter-widgets/base",
            "top": null,
            "grid_column": null,
            "overflow_y": null,
            "overflow_x": null,
            "grid_auto_flow": null,
            "grid_area": null,
            "grid_template_columns": null,
            "flex": null,
            "_model_name": "LayoutModel",
            "justify_items": null,
            "grid_row": null,
            "max_height": null,
            "align_content": null,
            "visibility": null,
            "align_self": null,
            "height": null,
            "min_height": null,
            "padding": null,
            "grid_auto_rows": null,
            "grid_gap": null,
            "max_width": null,
            "order": null,
            "_view_module_version": "1.2.0",
            "grid_template_areas": null,
            "object_position": null,
            "object_fit": null,
            "grid_auto_columns": null,
            "margin": null,
            "display": null,
            "left": null
          }
        },
        "23da0fe2d1b547a8910f74d6ba8fbe89": {
          "model_module": "@jupyter-widgets/controls",
          "model_name": "ProgressStyleModel",
          "model_module_version": "1.5.0",
          "state": {
            "_view_name": "StyleView",
            "_model_name": "ProgressStyleModel",
            "description_width": "",
            "_view_module": "@jupyter-widgets/base",
            "_model_module_version": "1.5.0",
            "_view_count": null,
            "_view_module_version": "1.2.0",
            "bar_color": null,
            "_model_module": "@jupyter-widgets/controls"
          }
        },
        "ba7e1061152a4f13890cc0a08edcf1b5": {
          "model_module": "@jupyter-widgets/base",
          "model_name": "LayoutModel",
          "model_module_version": "1.2.0",
          "state": {
            "_view_name": "LayoutView",
            "grid_template_rows": null,
            "right": null,
            "justify_content": null,
            "_view_module": "@jupyter-widgets/base",
            "overflow": null,
            "_model_module_version": "1.2.0",
            "_view_count": null,
            "flex_flow": null,
            "width": null,
            "min_width": null,
            "border": null,
            "align_items": null,
            "bottom": null,
            "_model_module": "@jupyter-widgets/base",
            "top": null,
            "grid_column": null,
            "overflow_y": null,
            "overflow_x": null,
            "grid_auto_flow": null,
            "grid_area": null,
            "grid_template_columns": null,
            "flex": null,
            "_model_name": "LayoutModel",
            "justify_items": null,
            "grid_row": null,
            "max_height": null,
            "align_content": null,
            "visibility": null,
            "align_self": null,
            "height": null,
            "min_height": null,
            "padding": null,
            "grid_auto_rows": null,
            "grid_gap": null,
            "max_width": null,
            "order": null,
            "_view_module_version": "1.2.0",
            "grid_template_areas": null,
            "object_position": null,
            "object_fit": null,
            "grid_auto_columns": null,
            "margin": null,
            "display": null,
            "left": null
          }
        },
        "3813b416fb7b4fe29c644a5685be14b9": {
          "model_module": "@jupyter-widgets/controls",
          "model_name": "DescriptionStyleModel",
          "model_module_version": "1.5.0",
          "state": {
            "_view_name": "StyleView",
            "_model_name": "DescriptionStyleModel",
            "description_width": "",
            "_view_module": "@jupyter-widgets/base",
            "_model_module_version": "1.5.0",
            "_view_count": null,
            "_view_module_version": "1.2.0",
            "_model_module": "@jupyter-widgets/controls"
          }
        },
        "41d512793e6a4ed6a45e67680124d115": {
          "model_module": "@jupyter-widgets/base",
          "model_name": "LayoutModel",
          "model_module_version": "1.2.0",
          "state": {
            "_view_name": "LayoutView",
            "grid_template_rows": null,
            "right": null,
            "justify_content": null,
            "_view_module": "@jupyter-widgets/base",
            "overflow": null,
            "_model_module_version": "1.2.0",
            "_view_count": null,
            "flex_flow": null,
            "width": null,
            "min_width": null,
            "border": null,
            "align_items": null,
            "bottom": null,
            "_model_module": "@jupyter-widgets/base",
            "top": null,
            "grid_column": null,
            "overflow_y": null,
            "overflow_x": null,
            "grid_auto_flow": null,
            "grid_area": null,
            "grid_template_columns": null,
            "flex": null,
            "_model_name": "LayoutModel",
            "justify_items": null,
            "grid_row": null,
            "max_height": null,
            "align_content": null,
            "visibility": null,
            "align_self": null,
            "height": null,
            "min_height": null,
            "padding": null,
            "grid_auto_rows": null,
            "grid_gap": null,
            "max_width": null,
            "order": null,
            "_view_module_version": "1.2.0",
            "grid_template_areas": null,
            "object_position": null,
            "object_fit": null,
            "grid_auto_columns": null,
            "margin": null,
            "display": null,
            "left": null
          }
        }
      }
    }
  },
  "nbformat": 4,
  "nbformat_minor": 0
}